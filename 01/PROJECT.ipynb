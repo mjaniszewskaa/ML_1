{
 "cells": [
  {
   "cell_type": "markdown",
   "metadata": {},
   "source": [
    "# Productivity prediction"
   ]
  },
  {
   "cell_type": "markdown",
   "metadata": {},
   "source": [
    "Dataset consists of 1197 observations of details of productivity in a company in the Garment Industry.\n",
    "It is avaiable to download here: https://www.kaggle.com/ishadss/productivity-prediction-of-garment-employees\n",
    "<br><br>\n",
    "Columns description:\n",
    "\n",
    "01 date : Date in MM-DD-YYYY <br>\n",
    "02 day : Day of the Week<br>\n",
    "03 quarter : A portion of the month. A month was divided into four quarters<br>\n",
    "04 department : Associated department with the instance<br>\n",
    "05 teamno : Associated team number with the instance 06 noofworkers : Number of workers in each team <br>\n",
    "07 noofstylechange : Number of changes in the style of a particular product<br>\n",
    "08 targetedproductivity : Targeted productivity set by the Authority for each team for each day.<br>\n",
    "09 smv : Standard Minute Value, it is the allocated time for a task <br>\n",
    "10 wip : Work in progress. Includes the number of unfinished items for products <br>\n",
    "11 overtime : Represents the amount of overtime by each team in minutes<br>\n",
    "12 incentive : Represents the amount of financial incentive (in BDT) that enables or motivates a particular course of action.<br>\n",
    "13 idletime : The amount of time when the production was interrupted due to several reasons <br>\n",
    "14 idlemen : The number of workers who were idle due to production interruption<br>\n",
    "15 actual_productivity : The actual % of productivity that was delivered by the workers. It ranges from 0-1.<br>"
   ]
  },
  {
   "cell_type": "markdown",
   "metadata": {},
   "source": [
    "### 1. Data preparation "
   ]
  },
  {
   "cell_type": "code",
   "execution_count": 57,
   "metadata": {},
   "outputs": [],
   "source": [
    "# import packages\n",
    "import numpy as np\n",
    "import pandas as pd\n",
    "from scipy import stats\n",
    "from sklearn import feature_selection\n",
    "import warnings\n",
    "from sklearn import metrics\n",
    "import statsmodels.api as sm\n",
    "import matplotlib.pyplot as plt\n",
    "import seaborn as sns \n",
    "from sklearn.model_selection import KFold\n",
    "from sklearn import neighbors\n",
    "from sklearn.model_selection import KFold\n",
    "from sklearn import metrics\n",
    "from sklearn.svm import SVC\n",
    "import pickle\n",
    "import gc\n",
    "import math\n",
    "from sklearn.model_selection import train_test_split\n",
    "from imblearn.over_sampling import SMOTE\n",
    "from imblearn.over_sampling import ADASYN\n",
    "from sklearn import preprocessing\n",
    "%matplotlib inline"
   ]
  },
  {
   "cell_type": "code",
   "execution_count": 113,
   "metadata": {},
   "outputs": [],
   "source": [
    "###### Initial preparation of data ######\n",
    "# import data\n",
    "df = pd.read_csv(\"garments_worker_productivity.csv\",dtype={\"team\":str, \"no_of_style_change\":str, \n",
    "                                                           \"idle_men\":int})\n",
    "#create explanatory variable\n",
    "df.loc[df['targeted_productivity'] > df['actual_productivity'], 'target'] = 0\n",
    "df.loc[df['targeted_productivity'] <= df['actual_productivity'], 'target'] = 1\n",
    "#fix issue with dates - extract only months\n",
    "df[\"date\"] = df[\"date\"].str.extract(r'(\\w+)/', expand=False)\n",
    "df = df.rename(columns={\"date\": \"month\"})\n",
    "# quarter is not needed, as we only have 3 months in data and also column has wrong values\n",
    "del df['quarter']\n",
    "#we need to strip department column from white spaces\n",
    "df.department = df.department.str.strip()"
   ]
  },
  {
   "cell_type": "code",
   "execution_count": 114,
   "metadata": {},
   "outputs": [
    {
     "data": {
      "text/html": [
       "<div>\n",
       "<style scoped>\n",
       "    .dataframe tbody tr th:only-of-type {\n",
       "        vertical-align: middle;\n",
       "    }\n",
       "\n",
       "    .dataframe tbody tr th {\n",
       "        vertical-align: top;\n",
       "    }\n",
       "\n",
       "    .dataframe thead th {\n",
       "        text-align: right;\n",
       "    }\n",
       "</style>\n",
       "<table border=\"1\" class=\"dataframe\">\n",
       "  <thead>\n",
       "    <tr style=\"text-align: right;\">\n",
       "      <th></th>\n",
       "      <th>month</th>\n",
       "      <th>department</th>\n",
       "      <th>day</th>\n",
       "      <th>team</th>\n",
       "      <th>targeted_productivity</th>\n",
       "      <th>smv</th>\n",
       "      <th>wip</th>\n",
       "      <th>over_time</th>\n",
       "      <th>incentive</th>\n",
       "      <th>idle_time</th>\n",
       "      <th>idle_men</th>\n",
       "      <th>no_of_style_change</th>\n",
       "      <th>no_of_workers</th>\n",
       "      <th>actual_productivity</th>\n",
       "      <th>target</th>\n",
       "    </tr>\n",
       "  </thead>\n",
       "  <tbody>\n",
       "    <tr>\n",
       "      <th>0</th>\n",
       "      <td>1</td>\n",
       "      <td>sweing</td>\n",
       "      <td>Thursday</td>\n",
       "      <td>8</td>\n",
       "      <td>0.80</td>\n",
       "      <td>26.16</td>\n",
       "      <td>1108.0</td>\n",
       "      <td>7080</td>\n",
       "      <td>98</td>\n",
       "      <td>0.0</td>\n",
       "      <td>0</td>\n",
       "      <td>0</td>\n",
       "      <td>59.0</td>\n",
       "      <td>0.940725</td>\n",
       "      <td>1.0</td>\n",
       "    </tr>\n",
       "    <tr>\n",
       "      <th>1</th>\n",
       "      <td>1</td>\n",
       "      <td>finishing</td>\n",
       "      <td>Thursday</td>\n",
       "      <td>1</td>\n",
       "      <td>0.75</td>\n",
       "      <td>3.94</td>\n",
       "      <td>NaN</td>\n",
       "      <td>960</td>\n",
       "      <td>0</td>\n",
       "      <td>0.0</td>\n",
       "      <td>0</td>\n",
       "      <td>0</td>\n",
       "      <td>8.0</td>\n",
       "      <td>0.886500</td>\n",
       "      <td>1.0</td>\n",
       "    </tr>\n",
       "    <tr>\n",
       "      <th>2</th>\n",
       "      <td>1</td>\n",
       "      <td>sweing</td>\n",
       "      <td>Thursday</td>\n",
       "      <td>11</td>\n",
       "      <td>0.80</td>\n",
       "      <td>11.41</td>\n",
       "      <td>968.0</td>\n",
       "      <td>3660</td>\n",
       "      <td>50</td>\n",
       "      <td>0.0</td>\n",
       "      <td>0</td>\n",
       "      <td>0</td>\n",
       "      <td>30.5</td>\n",
       "      <td>0.800570</td>\n",
       "      <td>1.0</td>\n",
       "    </tr>\n",
       "    <tr>\n",
       "      <th>3</th>\n",
       "      <td>1</td>\n",
       "      <td>sweing</td>\n",
       "      <td>Thursday</td>\n",
       "      <td>12</td>\n",
       "      <td>0.80</td>\n",
       "      <td>11.41</td>\n",
       "      <td>968.0</td>\n",
       "      <td>3660</td>\n",
       "      <td>50</td>\n",
       "      <td>0.0</td>\n",
       "      <td>0</td>\n",
       "      <td>0</td>\n",
       "      <td>30.5</td>\n",
       "      <td>0.800570</td>\n",
       "      <td>1.0</td>\n",
       "    </tr>\n",
       "    <tr>\n",
       "      <th>4</th>\n",
       "      <td>1</td>\n",
       "      <td>sweing</td>\n",
       "      <td>Thursday</td>\n",
       "      <td>6</td>\n",
       "      <td>0.80</td>\n",
       "      <td>25.90</td>\n",
       "      <td>1170.0</td>\n",
       "      <td>1920</td>\n",
       "      <td>50</td>\n",
       "      <td>0.0</td>\n",
       "      <td>0</td>\n",
       "      <td>0</td>\n",
       "      <td>56.0</td>\n",
       "      <td>0.800382</td>\n",
       "      <td>1.0</td>\n",
       "    </tr>\n",
       "  </tbody>\n",
       "</table>\n",
       "</div>"
      ],
      "text/plain": [
       "  month department       day team  targeted_productivity    smv     wip  \\\n",
       "0     1     sweing  Thursday    8                   0.80  26.16  1108.0   \n",
       "1     1  finishing  Thursday    1                   0.75   3.94     NaN   \n",
       "2     1     sweing  Thursday   11                   0.80  11.41   968.0   \n",
       "3     1     sweing  Thursday   12                   0.80  11.41   968.0   \n",
       "4     1     sweing  Thursday    6                   0.80  25.90  1170.0   \n",
       "\n",
       "   over_time  incentive  idle_time  idle_men no_of_style_change  \\\n",
       "0       7080         98        0.0         0                  0   \n",
       "1        960          0        0.0         0                  0   \n",
       "2       3660         50        0.0         0                  0   \n",
       "3       3660         50        0.0         0                  0   \n",
       "4       1920         50        0.0         0                  0   \n",
       "\n",
       "   no_of_workers  actual_productivity  target  \n",
       "0           59.0             0.940725     1.0  \n",
       "1            8.0             0.886500     1.0  \n",
       "2           30.5             0.800570     1.0  \n",
       "3           30.5             0.800570     1.0  \n",
       "4           56.0             0.800382     1.0  "
      ]
     },
     "execution_count": 114,
     "metadata": {},
     "output_type": "execute_result"
    }
   ],
   "source": [
    "df.head()"
   ]
  },
  {
   "cell_type": "code",
   "execution_count": 115,
   "metadata": {},
   "outputs": [
    {
     "data": {
      "text/plain": [
       "month                     object\n",
       "department                object\n",
       "day                       object\n",
       "team                      object\n",
       "targeted_productivity    float64\n",
       "smv                      float64\n",
       "wip                      float64\n",
       "over_time                  int64\n",
       "incentive                  int64\n",
       "idle_time                float64\n",
       "idle_men                   int32\n",
       "no_of_style_change        object\n",
       "no_of_workers            float64\n",
       "actual_productivity      float64\n",
       "target                   float64\n",
       "dtype: object"
      ]
     },
     "execution_count": 115,
     "metadata": {},
     "output_type": "execute_result"
    }
   ],
   "source": [
    "df.dtypes"
   ]
  },
  {
   "cell_type": "code",
   "execution_count": 116,
   "metadata": {},
   "outputs": [
    {
     "data": {
      "text/plain": [
       "month                      0\n",
       "department                 0\n",
       "day                        0\n",
       "team                       0\n",
       "targeted_productivity      0\n",
       "smv                        0\n",
       "wip                      506\n",
       "over_time                  0\n",
       "incentive                  0\n",
       "idle_time                  0\n",
       "idle_men                   0\n",
       "no_of_style_change         0\n",
       "no_of_workers              0\n",
       "actual_productivity        0\n",
       "target                     0\n",
       "dtype: int64"
      ]
     },
     "execution_count": 116,
     "metadata": {},
     "output_type": "execute_result"
    }
   ],
   "source": [
    "df.isna().sum(axis = 0)"
   ]
  },
  {
   "cell_type": "code",
   "execution_count": 117,
   "metadata": {},
   "outputs": [
    {
     "data": {
      "text/plain": [
       "0.4227234753550543"
      ]
     },
     "execution_count": 117,
     "metadata": {},
     "output_type": "execute_result"
    }
   ],
   "source": [
    "#It looks like only var \"wip\" has some missings, lets see how much in % of total data \n",
    "df[\"wip\"].isna().sum()/len(df)"
   ]
  },
  {
   "cell_type": "markdown",
   "metadata": {},
   "source": [
    "As one can see, the number of missing data for variable \"wip\" reached over 40% of total row number. In this case, we will remove the variable since it is too big gap for us to fill."
   ]
  },
  {
   "cell_type": "code",
   "execution_count": 118,
   "metadata": {},
   "outputs": [],
   "source": [
    "del df['wip']"
   ]
  },
  {
   "cell_type": "code",
   "execution_count": 119,
   "metadata": {},
   "outputs": [
    {
     "data": {
      "text/html": [
       "<div>\n",
       "<style scoped>\n",
       "    .dataframe tbody tr th:only-of-type {\n",
       "        vertical-align: middle;\n",
       "    }\n",
       "\n",
       "    .dataframe tbody tr th {\n",
       "        vertical-align: top;\n",
       "    }\n",
       "\n",
       "    .dataframe thead th {\n",
       "        text-align: right;\n",
       "    }\n",
       "</style>\n",
       "<table border=\"1\" class=\"dataframe\">\n",
       "  <thead>\n",
       "    <tr style=\"text-align: right;\">\n",
       "      <th></th>\n",
       "      <th>targeted_productivity</th>\n",
       "      <th>smv</th>\n",
       "      <th>over_time</th>\n",
       "      <th>incentive</th>\n",
       "      <th>idle_time</th>\n",
       "      <th>idle_men</th>\n",
       "      <th>no_of_workers</th>\n",
       "      <th>actual_productivity</th>\n",
       "      <th>target</th>\n",
       "    </tr>\n",
       "  </thead>\n",
       "  <tbody>\n",
       "    <tr>\n",
       "      <th>count</th>\n",
       "      <td>1197.000000</td>\n",
       "      <td>1197.000000</td>\n",
       "      <td>1197.000000</td>\n",
       "      <td>1197.000000</td>\n",
       "      <td>1197.000000</td>\n",
       "      <td>1197.000000</td>\n",
       "      <td>1197.000000</td>\n",
       "      <td>1197.000000</td>\n",
       "      <td>1197.000000</td>\n",
       "    </tr>\n",
       "    <tr>\n",
       "      <th>mean</th>\n",
       "      <td>0.729632</td>\n",
       "      <td>15.062172</td>\n",
       "      <td>4567.460317</td>\n",
       "      <td>38.210526</td>\n",
       "      <td>0.730159</td>\n",
       "      <td>0.369256</td>\n",
       "      <td>34.609858</td>\n",
       "      <td>0.735091</td>\n",
       "      <td>0.730994</td>\n",
       "    </tr>\n",
       "    <tr>\n",
       "      <th>std</th>\n",
       "      <td>0.097891</td>\n",
       "      <td>10.943219</td>\n",
       "      <td>3348.823563</td>\n",
       "      <td>160.182643</td>\n",
       "      <td>12.709757</td>\n",
       "      <td>3.268987</td>\n",
       "      <td>22.197687</td>\n",
       "      <td>0.174488</td>\n",
       "      <td>0.443628</td>\n",
       "    </tr>\n",
       "    <tr>\n",
       "      <th>min</th>\n",
       "      <td>0.070000</td>\n",
       "      <td>2.900000</td>\n",
       "      <td>0.000000</td>\n",
       "      <td>0.000000</td>\n",
       "      <td>0.000000</td>\n",
       "      <td>0.000000</td>\n",
       "      <td>2.000000</td>\n",
       "      <td>0.233705</td>\n",
       "      <td>0.000000</td>\n",
       "    </tr>\n",
       "    <tr>\n",
       "      <th>25%</th>\n",
       "      <td>0.700000</td>\n",
       "      <td>3.940000</td>\n",
       "      <td>1440.000000</td>\n",
       "      <td>0.000000</td>\n",
       "      <td>0.000000</td>\n",
       "      <td>0.000000</td>\n",
       "      <td>9.000000</td>\n",
       "      <td>0.650307</td>\n",
       "      <td>0.000000</td>\n",
       "    </tr>\n",
       "    <tr>\n",
       "      <th>50%</th>\n",
       "      <td>0.750000</td>\n",
       "      <td>15.260000</td>\n",
       "      <td>3960.000000</td>\n",
       "      <td>0.000000</td>\n",
       "      <td>0.000000</td>\n",
       "      <td>0.000000</td>\n",
       "      <td>34.000000</td>\n",
       "      <td>0.773333</td>\n",
       "      <td>1.000000</td>\n",
       "    </tr>\n",
       "    <tr>\n",
       "      <th>75%</th>\n",
       "      <td>0.800000</td>\n",
       "      <td>24.260000</td>\n",
       "      <td>6960.000000</td>\n",
       "      <td>50.000000</td>\n",
       "      <td>0.000000</td>\n",
       "      <td>0.000000</td>\n",
       "      <td>57.000000</td>\n",
       "      <td>0.850253</td>\n",
       "      <td>1.000000</td>\n",
       "    </tr>\n",
       "    <tr>\n",
       "      <th>max</th>\n",
       "      <td>0.800000</td>\n",
       "      <td>54.560000</td>\n",
       "      <td>25920.000000</td>\n",
       "      <td>3600.000000</td>\n",
       "      <td>300.000000</td>\n",
       "      <td>45.000000</td>\n",
       "      <td>89.000000</td>\n",
       "      <td>1.120437</td>\n",
       "      <td>1.000000</td>\n",
       "    </tr>\n",
       "  </tbody>\n",
       "</table>\n",
       "</div>"
      ],
      "text/plain": [
       "       targeted_productivity          smv     over_time    incentive  \\\n",
       "count            1197.000000  1197.000000   1197.000000  1197.000000   \n",
       "mean                0.729632    15.062172   4567.460317    38.210526   \n",
       "std                 0.097891    10.943219   3348.823563   160.182643   \n",
       "min                 0.070000     2.900000      0.000000     0.000000   \n",
       "25%                 0.700000     3.940000   1440.000000     0.000000   \n",
       "50%                 0.750000    15.260000   3960.000000     0.000000   \n",
       "75%                 0.800000    24.260000   6960.000000    50.000000   \n",
       "max                 0.800000    54.560000  25920.000000  3600.000000   \n",
       "\n",
       "         idle_time     idle_men  no_of_workers  actual_productivity  \\\n",
       "count  1197.000000  1197.000000    1197.000000          1197.000000   \n",
       "mean      0.730159     0.369256      34.609858             0.735091   \n",
       "std      12.709757     3.268987      22.197687             0.174488   \n",
       "min       0.000000     0.000000       2.000000             0.233705   \n",
       "25%       0.000000     0.000000       9.000000             0.650307   \n",
       "50%       0.000000     0.000000      34.000000             0.773333   \n",
       "75%       0.000000     0.000000      57.000000             0.850253   \n",
       "max     300.000000    45.000000      89.000000             1.120437   \n",
       "\n",
       "            target  \n",
       "count  1197.000000  \n",
       "mean      0.730994  \n",
       "std       0.443628  \n",
       "min       0.000000  \n",
       "25%       0.000000  \n",
       "50%       1.000000  \n",
       "75%       1.000000  \n",
       "max       1.000000  "
      ]
     },
     "execution_count": 119,
     "metadata": {},
     "output_type": "execute_result"
    }
   ],
   "source": [
    "#descriptive statistics\n",
    "df.describe()"
   ]
  },
  {
   "cell_type": "markdown",
   "metadata": {},
   "source": [
    "As can be seen from the descriptive statistics above, second quartile for variables such as *incentive*, *idle_time* & *idle_men* are equal to 0, wheras mean is above 0. Therefore we have extraordinary number of zeros in our dataset for those variables. Because of that, we decided to decode them to dummy variables."
   ]
  },
  {
   "cell_type": "code",
   "execution_count": 120,
   "metadata": {},
   "outputs": [],
   "source": [
    "# Decoding incentive to 3 levels\n",
    "df.loc[(df['incentive'] == 0) , \"incentive_categorized\"  ]  = \"0\"\n",
    "df.loc[(df['incentive'] > 0) & ((df['incentive']) <= 1000 ) , \"incentive_categorized\" ]  = \"1\"\n",
    "df.loc[(df['incentive'] > 1000) , \"incentive_categorized\" ]  = \"2\"\n",
    "# Then delete the incentive variable\n",
    "del df[\"incentive\"]"
   ]
  },
  {
   "cell_type": "code",
   "execution_count": 121,
   "metadata": {},
   "outputs": [],
   "source": [
    "# Decoding idle_time to 2 levels\n",
    "df.loc[(df['idle_time'] == 0) , \"idle_time_categorized\"  ]  = \"0\"\n",
    "df.loc[(df['idle_time']) > 0 , \"idle_time_categorized\" ]  = \"1\"\n",
    "# Then delete the idle_time variable\n",
    "del df[\"idle_time\"]"
   ]
  },
  {
   "cell_type": "code",
   "execution_count": 122,
   "metadata": {},
   "outputs": [],
   "source": [
    "# Decoding idle_men to 2 levels\n",
    "df.loc[(df['idle_men'] == 0) , \"idle_men_categorized\"  ]  = \"0\"\n",
    "df.loc[(df['idle_men']) > 0 , \"idle_men_categorized\" ]  = \"1\"\n",
    "# Then delete the idle_men variable\n",
    "del df[\"idle_men\"]"
   ]
  },
  {
   "cell_type": "markdown",
   "metadata": {},
   "source": [
    "### 2. Feature selections."
   ]
  },
  {
   "cell_type": "code",
   "execution_count": 123,
   "metadata": {},
   "outputs": [],
   "source": [
    "#Prepare list of numeric and categorical columns \n",
    "levCols = []\n",
    "numCols = []\n",
    "for col in df.columns:\n",
    "    if df[col].dtype==object:\n",
    "        levCols.append(col)\n",
    "    else:\n",
    "        numCols.append(col)\n",
    "\n",
    "#delete vars, which were used to create the dependent variable\n",
    "numCols.remove(\"targeted_productivity\")\n",
    "numCols.remove(\"actual_productivity\")\n",
    "\n",
    "features = numCols + levCols\n",
    "# target is dependent variable, so we delete it\n",
    "features.remove(\"target\")\n",
    "numCols.remove(\"target\")"
   ]
  },
  {
   "cell_type": "code",
   "execution_count": 124,
   "metadata": {},
   "outputs": [
    {
     "name": "stdout",
     "output_type": "stream",
     "text": [
      "month\n"
     ]
    },
    {
     "data": {
      "text/html": [
       "<div>\n",
       "<style scoped>\n",
       "    .dataframe tbody tr th:only-of-type {\n",
       "        vertical-align: middle;\n",
       "    }\n",
       "\n",
       "    .dataframe tbody tr th {\n",
       "        vertical-align: top;\n",
       "    }\n",
       "\n",
       "    .dataframe thead th {\n",
       "        text-align: right;\n",
       "    }\n",
       "</style>\n",
       "<table border=\"1\" class=\"dataframe\">\n",
       "  <thead>\n",
       "    <tr style=\"text-align: right;\">\n",
       "      <th>month</th>\n",
       "      <th>1</th>\n",
       "      <th>2</th>\n",
       "      <th>3</th>\n",
       "      <th>All</th>\n",
       "    </tr>\n",
       "    <tr>\n",
       "      <th>target</th>\n",
       "      <th></th>\n",
       "      <th></th>\n",
       "      <th></th>\n",
       "      <th></th>\n",
       "    </tr>\n",
       "  </thead>\n",
       "  <tbody>\n",
       "    <tr>\n",
       "      <th>0.0</th>\n",
       "      <td>9.9</td>\n",
       "      <td>12.5</td>\n",
       "      <td>4.4</td>\n",
       "      <td>26.9</td>\n",
       "    </tr>\n",
       "    <tr>\n",
       "      <th>1.0</th>\n",
       "      <td>35.3</td>\n",
       "      <td>24.5</td>\n",
       "      <td>13.3</td>\n",
       "      <td>73.1</td>\n",
       "    </tr>\n",
       "    <tr>\n",
       "      <th>All</th>\n",
       "      <td>45.3</td>\n",
       "      <td>37.0</td>\n",
       "      <td>17.7</td>\n",
       "      <td>100.0</td>\n",
       "    </tr>\n",
       "  </tbody>\n",
       "</table>\n",
       "</div>"
      ],
      "text/plain": [
       "month      1     2     3    All\n",
       "target                         \n",
       "0.0      9.9  12.5   4.4   26.9\n",
       "1.0     35.3  24.5  13.3   73.1\n",
       "All     45.3  37.0  17.7  100.0"
      ]
     },
     "metadata": {},
     "output_type": "display_data"
    },
    {
     "name": "stdout",
     "output_type": "stream",
     "text": [
      "department\n"
     ]
    },
    {
     "data": {
      "text/html": [
       "<div>\n",
       "<style scoped>\n",
       "    .dataframe tbody tr th:only-of-type {\n",
       "        vertical-align: middle;\n",
       "    }\n",
       "\n",
       "    .dataframe tbody tr th {\n",
       "        vertical-align: top;\n",
       "    }\n",
       "\n",
       "    .dataframe thead th {\n",
       "        text-align: right;\n",
       "    }\n",
       "</style>\n",
       "<table border=\"1\" class=\"dataframe\">\n",
       "  <thead>\n",
       "    <tr style=\"text-align: right;\">\n",
       "      <th>department</th>\n",
       "      <th>finishing</th>\n",
       "      <th>sweing</th>\n",
       "      <th>All</th>\n",
       "    </tr>\n",
       "    <tr>\n",
       "      <th>target</th>\n",
       "      <th></th>\n",
       "      <th></th>\n",
       "      <th></th>\n",
       "    </tr>\n",
       "  </thead>\n",
       "  <tbody>\n",
       "    <tr>\n",
       "      <th>0.0</th>\n",
       "      <td>17.0</td>\n",
       "      <td>9.9</td>\n",
       "      <td>26.9</td>\n",
       "    </tr>\n",
       "    <tr>\n",
       "      <th>1.0</th>\n",
       "      <td>25.2</td>\n",
       "      <td>47.9</td>\n",
       "      <td>73.1</td>\n",
       "    </tr>\n",
       "    <tr>\n",
       "      <th>All</th>\n",
       "      <td>42.3</td>\n",
       "      <td>57.7</td>\n",
       "      <td>100.0</td>\n",
       "    </tr>\n",
       "  </tbody>\n",
       "</table>\n",
       "</div>"
      ],
      "text/plain": [
       "department  finishing  sweing    All\n",
       "target                              \n",
       "0.0              17.0     9.9   26.9\n",
       "1.0              25.2    47.9   73.1\n",
       "All              42.3    57.7  100.0"
      ]
     },
     "metadata": {},
     "output_type": "display_data"
    },
    {
     "name": "stdout",
     "output_type": "stream",
     "text": [
      "day\n"
     ]
    },
    {
     "data": {
      "text/html": [
       "<div>\n",
       "<style scoped>\n",
       "    .dataframe tbody tr th:only-of-type {\n",
       "        vertical-align: middle;\n",
       "    }\n",
       "\n",
       "    .dataframe tbody tr th {\n",
       "        vertical-align: top;\n",
       "    }\n",
       "\n",
       "    .dataframe thead th {\n",
       "        text-align: right;\n",
       "    }\n",
       "</style>\n",
       "<table border=\"1\" class=\"dataframe\">\n",
       "  <thead>\n",
       "    <tr style=\"text-align: right;\">\n",
       "      <th>day</th>\n",
       "      <th>Monday</th>\n",
       "      <th>Saturday</th>\n",
       "      <th>Sunday</th>\n",
       "      <th>Thursday</th>\n",
       "      <th>Tuesday</th>\n",
       "      <th>Wednesday</th>\n",
       "      <th>All</th>\n",
       "    </tr>\n",
       "    <tr>\n",
       "      <th>target</th>\n",
       "      <th></th>\n",
       "      <th></th>\n",
       "      <th></th>\n",
       "      <th></th>\n",
       "      <th></th>\n",
       "      <th></th>\n",
       "      <th></th>\n",
       "    </tr>\n",
       "  </thead>\n",
       "  <tbody>\n",
       "    <tr>\n",
       "      <th>0.0</th>\n",
       "      <td>3.8</td>\n",
       "      <td>3.8</td>\n",
       "      <td>5.3</td>\n",
       "      <td>5.4</td>\n",
       "      <td>4.1</td>\n",
       "      <td>4.3</td>\n",
       "      <td>26.9</td>\n",
       "    </tr>\n",
       "    <tr>\n",
       "      <th>1.0</th>\n",
       "      <td>12.8</td>\n",
       "      <td>11.8</td>\n",
       "      <td>11.6</td>\n",
       "      <td>11.2</td>\n",
       "      <td>12.7</td>\n",
       "      <td>13.0</td>\n",
       "      <td>73.1</td>\n",
       "    </tr>\n",
       "    <tr>\n",
       "      <th>All</th>\n",
       "      <td>16.6</td>\n",
       "      <td>15.6</td>\n",
       "      <td>17.0</td>\n",
       "      <td>16.6</td>\n",
       "      <td>16.8</td>\n",
       "      <td>17.4</td>\n",
       "      <td>100.0</td>\n",
       "    </tr>\n",
       "  </tbody>\n",
       "</table>\n",
       "</div>"
      ],
      "text/plain": [
       "day     Monday  Saturday  Sunday  Thursday  Tuesday  Wednesday    All\n",
       "target                                                               \n",
       "0.0        3.8       3.8     5.3       5.4      4.1        4.3   26.9\n",
       "1.0       12.8      11.8    11.6      11.2     12.7       13.0   73.1\n",
       "All       16.6      15.6    17.0      16.6     16.8       17.4  100.0"
      ]
     },
     "metadata": {},
     "output_type": "display_data"
    },
    {
     "name": "stdout",
     "output_type": "stream",
     "text": [
      "team\n"
     ]
    },
    {
     "data": {
      "text/html": [
       "<div>\n",
       "<style scoped>\n",
       "    .dataframe tbody tr th:only-of-type {\n",
       "        vertical-align: middle;\n",
       "    }\n",
       "\n",
       "    .dataframe tbody tr th {\n",
       "        vertical-align: top;\n",
       "    }\n",
       "\n",
       "    .dataframe thead th {\n",
       "        text-align: right;\n",
       "    }\n",
       "</style>\n",
       "<table border=\"1\" class=\"dataframe\">\n",
       "  <thead>\n",
       "    <tr style=\"text-align: right;\">\n",
       "      <th>team</th>\n",
       "      <th>1</th>\n",
       "      <th>10</th>\n",
       "      <th>11</th>\n",
       "      <th>12</th>\n",
       "      <th>2</th>\n",
       "      <th>3</th>\n",
       "      <th>4</th>\n",
       "      <th>5</th>\n",
       "      <th>6</th>\n",
       "      <th>7</th>\n",
       "      <th>8</th>\n",
       "      <th>9</th>\n",
       "      <th>All</th>\n",
       "    </tr>\n",
       "    <tr>\n",
       "      <th>target</th>\n",
       "      <th></th>\n",
       "      <th></th>\n",
       "      <th></th>\n",
       "      <th></th>\n",
       "      <th></th>\n",
       "      <th></th>\n",
       "      <th></th>\n",
       "      <th></th>\n",
       "      <th></th>\n",
       "      <th></th>\n",
       "      <th></th>\n",
       "      <th></th>\n",
       "      <th></th>\n",
       "    </tr>\n",
       "  </thead>\n",
       "  <tbody>\n",
       "    <tr>\n",
       "      <th>0.0</th>\n",
       "      <td>1.3</td>\n",
       "      <td>2.5</td>\n",
       "      <td>2.1</td>\n",
       "      <td>1.3</td>\n",
       "      <td>2.3</td>\n",
       "      <td>0.9</td>\n",
       "      <td>1.6</td>\n",
       "      <td>2.1</td>\n",
       "      <td>2.6</td>\n",
       "      <td>3.3</td>\n",
       "      <td>4.1</td>\n",
       "      <td>2.8</td>\n",
       "      <td>26.9</td>\n",
       "    </tr>\n",
       "    <tr>\n",
       "      <th>1.0</th>\n",
       "      <td>7.5</td>\n",
       "      <td>5.8</td>\n",
       "      <td>5.3</td>\n",
       "      <td>6.9</td>\n",
       "      <td>6.9</td>\n",
       "      <td>7.0</td>\n",
       "      <td>7.2</td>\n",
       "      <td>5.7</td>\n",
       "      <td>5.3</td>\n",
       "      <td>4.7</td>\n",
       "      <td>5.0</td>\n",
       "      <td>5.8</td>\n",
       "      <td>73.1</td>\n",
       "    </tr>\n",
       "    <tr>\n",
       "      <th>All</th>\n",
       "      <td>8.8</td>\n",
       "      <td>8.4</td>\n",
       "      <td>7.4</td>\n",
       "      <td>8.3</td>\n",
       "      <td>9.1</td>\n",
       "      <td>7.9</td>\n",
       "      <td>8.8</td>\n",
       "      <td>7.8</td>\n",
       "      <td>7.9</td>\n",
       "      <td>8.0</td>\n",
       "      <td>9.1</td>\n",
       "      <td>8.7</td>\n",
       "      <td>100.0</td>\n",
       "    </tr>\n",
       "  </tbody>\n",
       "</table>\n",
       "</div>"
      ],
      "text/plain": [
       "team      1   10   11   12    2    3    4    5    6    7    8    9    All\n",
       "target                                                                   \n",
       "0.0     1.3  2.5  2.1  1.3  2.3  0.9  1.6  2.1  2.6  3.3  4.1  2.8   26.9\n",
       "1.0     7.5  5.8  5.3  6.9  6.9  7.0  7.2  5.7  5.3  4.7  5.0  5.8   73.1\n",
       "All     8.8  8.4  7.4  8.3  9.1  7.9  8.8  7.8  7.9  8.0  9.1  8.7  100.0"
      ]
     },
     "metadata": {},
     "output_type": "display_data"
    },
    {
     "name": "stdout",
     "output_type": "stream",
     "text": [
      "no_of_style_change\n"
     ]
    },
    {
     "data": {
      "text/html": [
       "<div>\n",
       "<style scoped>\n",
       "    .dataframe tbody tr th:only-of-type {\n",
       "        vertical-align: middle;\n",
       "    }\n",
       "\n",
       "    .dataframe tbody tr th {\n",
       "        vertical-align: top;\n",
       "    }\n",
       "\n",
       "    .dataframe thead th {\n",
       "        text-align: right;\n",
       "    }\n",
       "</style>\n",
       "<table border=\"1\" class=\"dataframe\">\n",
       "  <thead>\n",
       "    <tr style=\"text-align: right;\">\n",
       "      <th>no_of_style_change</th>\n",
       "      <th>0</th>\n",
       "      <th>1</th>\n",
       "      <th>2</th>\n",
       "      <th>All</th>\n",
       "    </tr>\n",
       "    <tr>\n",
       "      <th>target</th>\n",
       "      <th></th>\n",
       "      <th></th>\n",
       "      <th></th>\n",
       "      <th></th>\n",
       "    </tr>\n",
       "  </thead>\n",
       "  <tbody>\n",
       "    <tr>\n",
       "      <th>0.0</th>\n",
       "      <td>23.5</td>\n",
       "      <td>2.9</td>\n",
       "      <td>0.5</td>\n",
       "      <td>26.9</td>\n",
       "    </tr>\n",
       "    <tr>\n",
       "      <th>1.0</th>\n",
       "      <td>64.2</td>\n",
       "      <td>6.6</td>\n",
       "      <td>2.3</td>\n",
       "      <td>73.1</td>\n",
       "    </tr>\n",
       "    <tr>\n",
       "      <th>All</th>\n",
       "      <td>87.7</td>\n",
       "      <td>9.5</td>\n",
       "      <td>2.8</td>\n",
       "      <td>100.0</td>\n",
       "    </tr>\n",
       "  </tbody>\n",
       "</table>\n",
       "</div>"
      ],
      "text/plain": [
       "no_of_style_change     0    1    2    All\n",
       "target                                   \n",
       "0.0                 23.5  2.9  0.5   26.9\n",
       "1.0                 64.2  6.6  2.3   73.1\n",
       "All                 87.7  9.5  2.8  100.0"
      ]
     },
     "metadata": {},
     "output_type": "display_data"
    },
    {
     "name": "stdout",
     "output_type": "stream",
     "text": [
      "incentive_categorized\n"
     ]
    },
    {
     "data": {
      "text/html": [
       "<div>\n",
       "<style scoped>\n",
       "    .dataframe tbody tr th:only-of-type {\n",
       "        vertical-align: middle;\n",
       "    }\n",
       "\n",
       "    .dataframe tbody tr th {\n",
       "        vertical-align: top;\n",
       "    }\n",
       "\n",
       "    .dataframe thead th {\n",
       "        text-align: right;\n",
       "    }\n",
       "</style>\n",
       "<table border=\"1\" class=\"dataframe\">\n",
       "  <thead>\n",
       "    <tr style=\"text-align: right;\">\n",
       "      <th>incentive_categorized</th>\n",
       "      <th>0</th>\n",
       "      <th>1</th>\n",
       "      <th>2</th>\n",
       "      <th>All</th>\n",
       "    </tr>\n",
       "    <tr>\n",
       "      <th>target</th>\n",
       "      <th></th>\n",
       "      <th></th>\n",
       "      <th></th>\n",
       "      <th></th>\n",
       "    </tr>\n",
       "  </thead>\n",
       "  <tbody>\n",
       "    <tr>\n",
       "      <th>0.0</th>\n",
       "      <td>22.5</td>\n",
       "      <td>4.3</td>\n",
       "      <td>0.2</td>\n",
       "      <td>26.9</td>\n",
       "    </tr>\n",
       "    <tr>\n",
       "      <th>1.0</th>\n",
       "      <td>28.0</td>\n",
       "      <td>44.9</td>\n",
       "      <td>0.3</td>\n",
       "      <td>73.1</td>\n",
       "    </tr>\n",
       "    <tr>\n",
       "      <th>All</th>\n",
       "      <td>50.5</td>\n",
       "      <td>49.1</td>\n",
       "      <td>0.4</td>\n",
       "      <td>100.0</td>\n",
       "    </tr>\n",
       "  </tbody>\n",
       "</table>\n",
       "</div>"
      ],
      "text/plain": [
       "incentive_categorized     0     1    2    All\n",
       "target                                       \n",
       "0.0                    22.5   4.3  0.2   26.9\n",
       "1.0                    28.0  44.9  0.3   73.1\n",
       "All                    50.5  49.1  0.4  100.0"
      ]
     },
     "metadata": {},
     "output_type": "display_data"
    },
    {
     "name": "stdout",
     "output_type": "stream",
     "text": [
      "idle_time_categorized\n"
     ]
    },
    {
     "data": {
      "text/html": [
       "<div>\n",
       "<style scoped>\n",
       "    .dataframe tbody tr th:only-of-type {\n",
       "        vertical-align: middle;\n",
       "    }\n",
       "\n",
       "    .dataframe tbody tr th {\n",
       "        vertical-align: top;\n",
       "    }\n",
       "\n",
       "    .dataframe thead th {\n",
       "        text-align: right;\n",
       "    }\n",
       "</style>\n",
       "<table border=\"1\" class=\"dataframe\">\n",
       "  <thead>\n",
       "    <tr style=\"text-align: right;\">\n",
       "      <th>idle_time_categorized</th>\n",
       "      <th>0</th>\n",
       "      <th>1</th>\n",
       "      <th>All</th>\n",
       "    </tr>\n",
       "    <tr>\n",
       "      <th>target</th>\n",
       "      <th></th>\n",
       "      <th></th>\n",
       "      <th></th>\n",
       "    </tr>\n",
       "  </thead>\n",
       "  <tbody>\n",
       "    <tr>\n",
       "      <th>0.0</th>\n",
       "      <td>25.7</td>\n",
       "      <td>1.2</td>\n",
       "      <td>26.9</td>\n",
       "    </tr>\n",
       "    <tr>\n",
       "      <th>1.0</th>\n",
       "      <td>72.8</td>\n",
       "      <td>0.3</td>\n",
       "      <td>73.1</td>\n",
       "    </tr>\n",
       "    <tr>\n",
       "      <th>All</th>\n",
       "      <td>98.5</td>\n",
       "      <td>1.5</td>\n",
       "      <td>100.0</td>\n",
       "    </tr>\n",
       "  </tbody>\n",
       "</table>\n",
       "</div>"
      ],
      "text/plain": [
       "idle_time_categorized     0    1    All\n",
       "target                                 \n",
       "0.0                    25.7  1.2   26.9\n",
       "1.0                    72.8  0.3   73.1\n",
       "All                    98.5  1.5  100.0"
      ]
     },
     "metadata": {},
     "output_type": "display_data"
    },
    {
     "name": "stdout",
     "output_type": "stream",
     "text": [
      "idle_men_categorized\n"
     ]
    },
    {
     "data": {
      "text/html": [
       "<div>\n",
       "<style scoped>\n",
       "    .dataframe tbody tr th:only-of-type {\n",
       "        vertical-align: middle;\n",
       "    }\n",
       "\n",
       "    .dataframe tbody tr th {\n",
       "        vertical-align: top;\n",
       "    }\n",
       "\n",
       "    .dataframe thead th {\n",
       "        text-align: right;\n",
       "    }\n",
       "</style>\n",
       "<table border=\"1\" class=\"dataframe\">\n",
       "  <thead>\n",
       "    <tr style=\"text-align: right;\">\n",
       "      <th>idle_men_categorized</th>\n",
       "      <th>0</th>\n",
       "      <th>1</th>\n",
       "      <th>All</th>\n",
       "    </tr>\n",
       "    <tr>\n",
       "      <th>target</th>\n",
       "      <th></th>\n",
       "      <th></th>\n",
       "      <th></th>\n",
       "    </tr>\n",
       "  </thead>\n",
       "  <tbody>\n",
       "    <tr>\n",
       "      <th>0.0</th>\n",
       "      <td>25.7</td>\n",
       "      <td>1.2</td>\n",
       "      <td>26.9</td>\n",
       "    </tr>\n",
       "    <tr>\n",
       "      <th>1.0</th>\n",
       "      <td>72.8</td>\n",
       "      <td>0.3</td>\n",
       "      <td>73.1</td>\n",
       "    </tr>\n",
       "    <tr>\n",
       "      <th>All</th>\n",
       "      <td>98.5</td>\n",
       "      <td>1.5</td>\n",
       "      <td>100.0</td>\n",
       "    </tr>\n",
       "  </tbody>\n",
       "</table>\n",
       "</div>"
      ],
      "text/plain": [
       "idle_men_categorized     0    1    All\n",
       "target                                \n",
       "0.0                   25.7  1.2   26.9\n",
       "1.0                   72.8  0.3   73.1\n",
       "All                   98.5  1.5  100.0"
      ]
     },
     "metadata": {},
     "output_type": "display_data"
    }
   ],
   "source": [
    "# Analyze the distribution of variables\n",
    "for var in levCols:\n",
    "    print(var)\n",
    "    display(((pd.crosstab(df[\"target\"], df[var], margins=True)/df.shape[0])*100).round(1))"
   ]
  },
  {
   "cell_type": "markdown",
   "metadata": {},
   "source": [
    "Let's analyze the descriptive statistics"
   ]
  },
  {
   "cell_type": "markdown",
   "metadata": {},
   "source": [
    "1. Categorized"
   ]
  },
  {
   "cell_type": "code",
   "execution_count": 125,
   "metadata": {},
   "outputs": [
    {
     "name": "stdout",
     "output_type": "stream",
     "text": [
      "\n",
      " month\n",
      "Pearson (-0.057643560443521244, 0.046162074399216914)\n",
      "Mutual info [0.01927889]\n",
      "Chi2 (array([3.04161998]), array([0.08115489]))\n",
      "Anova (array([3.984045], dtype=float32), array([0.04615975], dtype=float32))\n",
      "\n",
      " department\n",
      "Pearson (0.25888637532281716, 8.775348222054219e-20)\n",
      "Mutual info [0.01963103]\n",
      "Chi2 (array([33.9132106]), array([5.76260863e-09]))\n",
      "Anova (array([85.84513], dtype=float32), array([8.774773e-20], dtype=float32))\n",
      "\n",
      " day\n",
      "Pearson (-0.009713387050659699, 0.7370838757260346)\n",
      "Mutual info [0.00737069]\n",
      "Chi2 (array([0.13087163]), array([0.71753001]))\n",
      "Anova (array([0.1126998], dtype=float32), array([0.7371501], dtype=float32))\n",
      "\n",
      " team\n",
      "Pearson (-0.14742253143349449, 3.0044716314587723e-07)\n",
      "Mutual info [0.02188792]\n",
      "Chi2 (array([57.09675386]), array([4.14889915e-14]))\n",
      "Anova (array([26.548443], dtype=float32), array([3.0044117e-07], dtype=float32))\n",
      "\n",
      " no_of_style_change\n",
      "Pearson (0.006259942235053839, 0.8287107527834078)\n",
      "Mutual info [0]\n",
      "Chi2 (array([0.05705217]), array([0.81121727]))\n",
      "Anova (array([0.04683004], dtype=float32), array([0.828711], dtype=float32))\n",
      "\n",
      " incentive_categorized\n",
      "Pearson (0.392387213083923, 2.4053065712296833e-45)\n",
      "Mutual info [0.07920106]\n",
      "Chi2 (array([95.30859648]), array([1.62904208e-22]))\n",
      "Anova (array([217.47559], dtype=float32), array([3.e-45], dtype=float32))\n",
      "\n",
      " idle_time_categorized\n",
      "Pearson (-0.14176358268389488, 8.45945840252296e-07)\n",
      "Mutual info [0]\n",
      "Chi2 (array([23.69426087]), array([1.12918771e-06]))\n",
      "Anova (array([24.50835], dtype=float32), array([8.459473e-07], dtype=float32))\n",
      "\n",
      " idle_men_categorized\n",
      "Pearson (-0.14176358268389488, 8.45945840252296e-07)\n",
      "Mutual info [0]\n",
      "Chi2 (array([23.69426087]), array([1.12918771e-06]))\n",
      "Anova (array([24.50835], dtype=float32), array([8.459473e-07], dtype=float32))\n"
     ]
    },
    {
     "data": {
      "text/plain": [
       "[(array([0.07920106]), 'incentive_categorized'),\n",
       " (array([0.02188792]), 'team'),\n",
       " (array([0.01963103]), 'department'),\n",
       " (array([0.01927889]), 'month'),\n",
       " (array([0.00737069]), 'day'),\n",
       " (array([0]), 'no_of_style_change'),\n",
       " (array([0]), 'idle_time_categorized'),\n",
       " (array([0]), 'idle_men_categorized')]"
      ]
     },
     "execution_count": 125,
     "metadata": {},
     "output_type": "execute_result"
    }
   ],
   "source": [
    "# Firstly, we need to encode the str into int variables to obtain corelation metrics\n",
    "df_copy = df.copy()\n",
    "le = preprocessing.LabelEncoder()\n",
    "for col in levCols:\n",
    "    df_copy[col] = le.fit_transform(df_copy[col])\n",
    "\n",
    "warnings.simplefilter(action='ignore', category=FutureWarning)\n",
    "\n",
    "# Print correlation metrics\n",
    "minfos=[]\n",
    "for var in levCols:\n",
    "    print(\"\\n\", var)\n",
    "    print(\"Pearson\", stats.pearsonr(df_copy[\"target\"], df_copy[var]))\n",
    "    # Random state set to 0 for Mutual Info\n",
    "    print(\"Mutual info\", feature_selection.mutual_info_classif(df_copy[var].values.reshape(-1,1),df_copy[\"target\"].values, random_state = 0))\n",
    "    minfos.append(feature_selection.mutual_info_classif(df_copy[var].values.reshape(-1,1),df_copy[\"target\"].values, random_state=0))\n",
    "    print(\"Chi2\", feature_selection.chi2(df_copy[var].values.reshape(-1,1),df_copy[\"target\"].values))\n",
    "    print(\"Anova\", feature_selection.f_classif(df_copy[var].values.reshape(-1,1),df_copy[\"target\"].values))\n",
    "\n",
    "imp = list(zip(minfos, levCols))\n",
    "imp.sort(reverse=True)\n",
    "imp"
   ]
  },
  {
   "cell_type": "markdown",
   "metadata": {},
   "source": [
    "The most important value seems to be incentive_categorized, which mutual information has the highest value. The least important are: no_of_style_change, is_idle_time_categorized, no_of_style_change."
   ]
  },
  {
   "cell_type": "markdown",
   "metadata": {},
   "source": [
    "2. Continuous "
   ]
  },
  {
   "cell_type": "code",
   "execution_count": 126,
   "metadata": {},
   "outputs": [
    {
     "name": "stdout",
     "output_type": "stream",
     "text": [
      "smv  Mutual info [0.134211]\n",
      "over_time  Mutual info [0.03991998]\n",
      "no_of_workers  Mutual info [0.05295754]\n"
     ]
    },
    {
     "data": {
      "text/plain": [
       "[(array([0.134211]), 'smv'),\n",
       " (array([0.05295754]), 'no_of_workers'),\n",
       " (array([0.03991998]), 'over_time')]"
      ]
     },
     "execution_count": 126,
     "metadata": {},
     "output_type": "execute_result"
    }
   ],
   "source": [
    "warnings.simplefilter(action='ignore', category=FutureWarning)\n",
    "minfos=[]\n",
    "for var in numCols:\n",
    "    print(var, \" Mutual info\", feature_selection.mutual_info_regression(df_copy[var].astype(float).values.reshape(-1,1),df_copy[\"target\"].astype(float).values, random_state =  0))\n",
    "    minfos.append(feature_selection.mutual_info_regression(df_copy[var].astype(float).values.reshape(-1,1),df_copy[\"target\"].astype(float).values, random_state =  0))\n",
    "# We can sort recorded values\n",
    "imp = list(zip(minfos, numCols))\n",
    "imp.sort(reverse=True)\n",
    "imp"
   ]
  },
  {
   "cell_type": "markdown",
   "metadata": {},
   "source": [
    "Above there are values of mutual information for continuous variables. The highest one is for smv.\n",
    "Now, let's decode the variables to dummies and see the most significant relationship in logistic regression. "
   ]
  },
  {
   "cell_type": "code",
   "execution_count": 130,
   "metadata": {},
   "outputs": [
    {
     "data": {
      "text/plain": [
       "['month',\n",
       " 'department',\n",
       " 'day',\n",
       " 'team',\n",
       " 'no_of_style_change',\n",
       " 'incentive_categorized',\n",
       " 'idle_time_categorized']"
      ]
     },
     "execution_count": 130,
     "metadata": {},
     "output_type": "execute_result"
    }
   ],
   "source": [
    "levCols"
   ]
  },
  {
   "cell_type": "code",
   "execution_count": 128,
   "metadata": {},
   "outputs": [],
   "source": [
    "# !!!!!!!!!!!!!!!!!!!!!!!!!!!!!!!!!!!!!!!!!!!!!\n",
    "del df[\"idle_men_categorized\"]\n",
    "levCols.remove(\"idle_men_categorized\")"
   ]
  },
  {
   "cell_type": "code",
   "execution_count": 131,
   "metadata": {},
   "outputs": [],
   "source": [
    "# Firstly we need to append back target to our variables\n",
    "numCols.append(\"target\")\n",
    "# Binarization of nominal variables along with target variable\n",
    "dummLev = pd.get_dummies(df[levCols], drop_first = True)\n",
    "df_dummy = pd.concat([df[numCols], dummLev], axis=1)\n",
    "# And remove target from numCols to standarize the explanatory variables\n",
    "numCols.remove(\"target\")\n",
    "# Let's standarize our results\n",
    "df_dummy[numCols] = df_dummy[numCols].apply(lambda x: (x-x.mean())/x.std())"
   ]
  },
  {
   "cell_type": "code",
   "execution_count": 132,
   "metadata": {},
   "outputs": [],
   "source": [
    "# Gather all column names once again after binarization\n",
    "features = df_dummy.columns.tolist()\n",
    "features.remove(\"target\")"
   ]
  },
  {
   "cell_type": "code",
   "execution_count": 133,
   "metadata": {},
   "outputs": [
    {
     "data": {
      "text/plain": [
       "['smv',\n",
       " 'over_time',\n",
       " 'no_of_workers',\n",
       " 'month_2',\n",
       " 'month_3',\n",
       " 'department_sweing',\n",
       " 'day_Saturday',\n",
       " 'day_Sunday',\n",
       " 'day_Thursday',\n",
       " 'day_Tuesday',\n",
       " 'day_Wednesday',\n",
       " 'team_10',\n",
       " 'team_11',\n",
       " 'team_12',\n",
       " 'team_2',\n",
       " 'team_3',\n",
       " 'team_4',\n",
       " 'team_5',\n",
       " 'team_6',\n",
       " 'team_7',\n",
       " 'team_8',\n",
       " 'team_9',\n",
       " 'no_of_style_change_1',\n",
       " 'no_of_style_change_2',\n",
       " 'incentive_categorized_1',\n",
       " 'incentive_categorized_2',\n",
       " 'idle_time_categorized_1']"
      ]
     },
     "execution_count": 133,
     "metadata": {},
     "output_type": "execute_result"
    }
   ],
   "source": [
    "features"
   ]
  },
  {
   "cell_type": "code",
   "execution_count": 134,
   "metadata": {},
   "outputs": [
    {
     "name": "stdout",
     "output_type": "stream",
     "text": [
      "\n",
      " -------------- \n",
      "\n"
     ]
    },
    {
     "data": {
      "text/plain": [
       "[(0.727664596273292, 'incentive_categorized_1'),\n",
       " (0.6744081632653061, 'no_of_workers'),\n",
       " (0.6441987577639751, 'department_sweing'),\n",
       " (0.6408731144631765, 'over_time'),\n",
       " (0.6348127772848269, 'smv'),\n",
       " (0.5654906832298137, 'month_2'),\n",
       " (0.5418012422360249, 'team_8'),\n",
       " (0.5309192546583852, 'team_3'),\n",
       " (0.530111801242236, 'team_7'),\n",
       " (0.524360248447205, 'day_Thursday'),\n",
       " (0.5225838509316769, 'team_12'),\n",
       " (0.5199503105590062, 'day_Sunday'),\n",
       " (0.5196397515527951, 'team_4'),\n",
       " (0.5194534161490683, 'idle_time_categorized_1'),\n",
       " (0.5127950310559006, 'team_9'),\n",
       " (0.5121366459627329, 'team_6'),\n",
       " (0.5107701863354037, 'day_Tuesday'),\n",
       " (0.5092049689440994, 'no_of_style_change_1'),\n",
       " (0.5091428571428571, 'day_Saturday'),\n",
       " (0.5085590062111801, 'month_3'),\n",
       " (0.5083975155279503, 'day_Wednesday'),\n",
       " (0.506583850931677, 'team_10'),\n",
       " (0.5061118012422361, 'no_of_style_change_2'),\n",
       " (0.5049316770186335, 'team_2'),\n",
       " (0.5028198757763975, 'team_11'),\n",
       " (0.5013913043478261, 'incentive_categorized_2'),\n",
       " (0.5000372670807453, 'team_5')]"
      ]
     },
     "execution_count": 134,
     "metadata": {},
     "output_type": "execute_result"
    }
   ],
   "source": [
    "# Now lets try logistic regression\n",
    "aucs=[]\n",
    "for var in features:\n",
    "    mod = sm.GLM.from_formula(formula=\"target ~ \" + var, data=df_dummy, family=sm.families.Binomial())\n",
    "    res = mod.fit()\n",
    "    probs = res.predict()\n",
    "    aucs.append(metrics.roc_auc_score(df_dummy[\"target\"].values, probs))\n",
    "\n",
    "print(\"\\n\", \"--------------\", \"\\n\")\n",
    "imp = list(zip(aucs, features))\n",
    "imp.sort(reverse=True)\n",
    "imp"
   ]
  },
  {
   "cell_type": "code",
   "execution_count": 135,
   "metadata": {},
   "outputs": [
    {
     "data": {
      "text/plain": [
       "['incentive_categorized_1',\n",
       " 'no_of_workers',\n",
       " 'department_sweing',\n",
       " 'over_time',\n",
       " 'smv',\n",
       " 'month_2',\n",
       " 'team_8',\n",
       " 'team_3',\n",
       " 'team_7',\n",
       " 'day_Thursday',\n",
       " 'team_12',\n",
       " 'day_Sunday',\n",
       " 'team_4',\n",
       " 'idle_time_categorized_1',\n",
       " 'team_9',\n",
       " 'team_6',\n",
       " 'day_Tuesday']"
      ]
     },
     "execution_count": 135,
     "metadata": {},
     "output_type": "execute_result"
    }
   ],
   "source": [
    "# Choose approperiate variables\n",
    "chosen_vars = []\n",
    "for auc,var in imp:\n",
    "    if auc>= 0.51:\n",
    "        chosen_vars.append(var)\n",
    "        chosen_vars\n",
    "chosen_vars"
   ]
  },
  {
   "cell_type": "markdown",
   "metadata": {},
   "source": [
    "We decide to remove observations with auc below 0.51 to improve the model. Most of the values that were pointed above were also important in logit model. <br> Next step is to create models: Logit, SVM and KNN."
   ]
  },
  {
   "cell_type": "markdown",
   "metadata": {},
   "source": [
    "### Modelling"
   ]
  },
  {
   "cell_type": "markdown",
   "metadata": {},
   "source": [
    "#### 3.1. Logit model"
   ]
  },
  {
   "cell_type": "code",
   "execution_count": 136,
   "metadata": {},
   "outputs": [
    {
     "data": {
      "text/plain": [
       "'target ~incentive_categorized_1+no_of_workers+department_sweing+over_time+smv+month_2+team_8+team_3+team_7+day_Thursday+team_12+day_Sunday+team_4+idle_time_categorized_1+team_9+team_6+day_Tuesday'"
      ]
     },
     "execution_count": 136,
     "metadata": {},
     "output_type": "execute_result"
    }
   ],
   "source": [
    "all_columns = \"+\".join(chosen_vars)\n",
    "my_formula = \"target ~\" + all_columns\n",
    "my_formula # formula used in code for logit model"
   ]
  },
  {
   "cell_type": "code",
   "execution_count": 137,
   "metadata": {},
   "outputs": [
    {
     "data": {
      "text/html": [
       "<table class=\"simpletable\">\n",
       "<caption>Generalized Linear Model Regression Results</caption>\n",
       "<tr>\n",
       "  <th>Dep. Variable:</th>        <td>target</td>      <th>  No. Observations:  </th>  <td>  1197</td> \n",
       "</tr>\n",
       "<tr>\n",
       "  <th>Model:</th>                  <td>GLM</td>       <th>  Df Residuals:      </th>  <td>  1179</td> \n",
       "</tr>\n",
       "<tr>\n",
       "  <th>Model Family:</th>        <td>Binomial</td>     <th>  Df Model:          </th>  <td>    17</td> \n",
       "</tr>\n",
       "<tr>\n",
       "  <th>Link Function:</th>         <td>logit</td>      <th>  Scale:             </th> <td>  1.0000</td>\n",
       "</tr>\n",
       "<tr>\n",
       "  <th>Method:</th>                <td>IRLS</td>       <th>  Log-Likelihood:    </th> <td> -530.76</td>\n",
       "</tr>\n",
       "<tr>\n",
       "  <th>Date:</th>            <td>Tue, 01 Jun 2021</td> <th>  Deviance:          </th> <td>  1061.5</td>\n",
       "</tr>\n",
       "<tr>\n",
       "  <th>Time:</th>                <td>23:36:11</td>     <th>  Pearson chi2:      </th> <td>1.36e+03</td>\n",
       "</tr>\n",
       "<tr>\n",
       "  <th>No. Iterations:</th>          <td>6</td>        <th>                     </th>     <td> </td>   \n",
       "</tr>\n",
       "<tr>\n",
       "  <th>Covariance Type:</th>     <td>nonrobust</td>    <th>                     </th>     <td> </td>   \n",
       "</tr>\n",
       "</table>\n",
       "<table class=\"simpletable\">\n",
       "<tr>\n",
       "             <td></td>                <th>coef</th>     <th>std err</th>      <th>z</th>      <th>P>|z|</th>  <th>[0.025</th>    <th>0.975]</th>  \n",
       "</tr>\n",
       "<tr>\n",
       "  <th>Intercept</th>               <td>    0.9801</td> <td>    0.393</td> <td>    2.493</td> <td> 0.013</td> <td>    0.210</td> <td>    1.751</td>\n",
       "</tr>\n",
       "<tr>\n",
       "  <th>incentive_categorized_1</th> <td>    2.6607</td> <td>    0.283</td> <td>    9.412</td> <td> 0.000</td> <td>    2.107</td> <td>    3.215</td>\n",
       "</tr>\n",
       "<tr>\n",
       "  <th>no_of_workers</th>           <td>    1.7037</td> <td>    0.406</td> <td>    4.201</td> <td> 0.000</td> <td>    0.909</td> <td>    2.499</td>\n",
       "</tr>\n",
       "<tr>\n",
       "  <th>department_sweing</th>       <td>   -0.8160</td> <td>    0.680</td> <td>   -1.199</td> <td> 0.230</td> <td>   -2.150</td> <td>    0.518</td>\n",
       "</tr>\n",
       "<tr>\n",
       "  <th>over_time</th>               <td>   -0.3378</td> <td>    0.146</td> <td>   -2.316</td> <td> 0.021</td> <td>   -0.624</td> <td>   -0.052</td>\n",
       "</tr>\n",
       "<tr>\n",
       "  <th>smv</th>                     <td>   -1.3382</td> <td>    0.215</td> <td>   -6.219</td> <td> 0.000</td> <td>   -1.760</td> <td>   -0.916</td>\n",
       "</tr>\n",
       "<tr>\n",
       "  <th>month_2</th>                 <td>   -0.4472</td> <td>    0.170</td> <td>   -2.624</td> <td> 0.009</td> <td>   -0.781</td> <td>   -0.113</td>\n",
       "</tr>\n",
       "<tr>\n",
       "  <th>team_8</th>                  <td>   -0.6663</td> <td>    0.254</td> <td>   -2.624</td> <td> 0.009</td> <td>   -1.164</td> <td>   -0.169</td>\n",
       "</tr>\n",
       "<tr>\n",
       "  <th>team_3</th>                  <td>    0.8311</td> <td>    0.362</td> <td>    2.294</td> <td> 0.022</td> <td>    0.121</td> <td>    1.541</td>\n",
       "</tr>\n",
       "<tr>\n",
       "  <th>team_7</th>                  <td>   -0.4591</td> <td>    0.270</td> <td>   -1.699</td> <td> 0.089</td> <td>   -0.989</td> <td>    0.071</td>\n",
       "</tr>\n",
       "<tr>\n",
       "  <th>day_Thursday</th>            <td>   -0.4513</td> <td>    0.214</td> <td>   -2.108</td> <td> 0.035</td> <td>   -0.871</td> <td>   -0.032</td>\n",
       "</tr>\n",
       "<tr>\n",
       "  <th>team_12</th>                 <td>    0.4978</td> <td>    0.338</td> <td>    1.475</td> <td> 0.140</td> <td>   -0.164</td> <td>    1.159</td>\n",
       "</tr>\n",
       "<tr>\n",
       "  <th>day_Sunday</th>              <td>   -0.3213</td> <td>    0.209</td> <td>   -1.537</td> <td> 0.124</td> <td>   -0.731</td> <td>    0.088</td>\n",
       "</tr>\n",
       "<tr>\n",
       "  <th>team_4</th>                  <td>    0.4584</td> <td>    0.307</td> <td>    1.491</td> <td> 0.136</td> <td>   -0.144</td> <td>    1.061</td>\n",
       "</tr>\n",
       "<tr>\n",
       "  <th>idle_time_categorized_1</th> <td>   -2.2754</td> <td>    0.732</td> <td>   -3.108</td> <td> 0.002</td> <td>   -3.710</td> <td>   -0.840</td>\n",
       "</tr>\n",
       "<tr>\n",
       "  <th>team_9</th>                  <td>   -0.6059</td> <td>    0.270</td> <td>   -2.246</td> <td> 0.025</td> <td>   -1.135</td> <td>   -0.077</td>\n",
       "</tr>\n",
       "<tr>\n",
       "  <th>team_6</th>                  <td>   -0.3196</td> <td>    0.320</td> <td>   -0.999</td> <td> 0.318</td> <td>   -0.946</td> <td>    0.307</td>\n",
       "</tr>\n",
       "<tr>\n",
       "  <th>day_Tuesday</th>             <td>   -0.0613</td> <td>    0.218</td> <td>   -0.281</td> <td> 0.779</td> <td>   -0.489</td> <td>    0.366</td>\n",
       "</tr>\n",
       "</table>"
      ],
      "text/plain": [
       "<class 'statsmodels.iolib.summary.Summary'>\n",
       "\"\"\"\n",
       "                 Generalized Linear Model Regression Results                  \n",
       "==============================================================================\n",
       "Dep. Variable:                 target   No. Observations:                 1197\n",
       "Model:                            GLM   Df Residuals:                     1179\n",
       "Model Family:                Binomial   Df Model:                           17\n",
       "Link Function:                  logit   Scale:                          1.0000\n",
       "Method:                          IRLS   Log-Likelihood:                -530.76\n",
       "Date:                Tue, 01 Jun 2021   Deviance:                       1061.5\n",
       "Time:                        23:36:11   Pearson chi2:                 1.36e+03\n",
       "No. Iterations:                     6                                         \n",
       "Covariance Type:            nonrobust                                         \n",
       "===========================================================================================\n",
       "                              coef    std err          z      P>|z|      [0.025      0.975]\n",
       "-------------------------------------------------------------------------------------------\n",
       "Intercept                   0.9801      0.393      2.493      0.013       0.210       1.751\n",
       "incentive_categorized_1     2.6607      0.283      9.412      0.000       2.107       3.215\n",
       "no_of_workers               1.7037      0.406      4.201      0.000       0.909       2.499\n",
       "department_sweing          -0.8160      0.680     -1.199      0.230      -2.150       0.518\n",
       "over_time                  -0.3378      0.146     -2.316      0.021      -0.624      -0.052\n",
       "smv                        -1.3382      0.215     -6.219      0.000      -1.760      -0.916\n",
       "month_2                    -0.4472      0.170     -2.624      0.009      -0.781      -0.113\n",
       "team_8                     -0.6663      0.254     -2.624      0.009      -1.164      -0.169\n",
       "team_3                      0.8311      0.362      2.294      0.022       0.121       1.541\n",
       "team_7                     -0.4591      0.270     -1.699      0.089      -0.989       0.071\n",
       "day_Thursday               -0.4513      0.214     -2.108      0.035      -0.871      -0.032\n",
       "team_12                     0.4978      0.338      1.475      0.140      -0.164       1.159\n",
       "day_Sunday                 -0.3213      0.209     -1.537      0.124      -0.731       0.088\n",
       "team_4                      0.4584      0.307      1.491      0.136      -0.144       1.061\n",
       "idle_time_categorized_1    -2.2754      0.732     -3.108      0.002      -3.710      -0.840\n",
       "team_9                     -0.6059      0.270     -2.246      0.025      -1.135      -0.077\n",
       "team_6                     -0.3196      0.320     -0.999      0.318      -0.946       0.307\n",
       "day_Tuesday                -0.0613      0.218     -0.281      0.779      -0.489       0.366\n",
       "===========================================================================================\n",
       "\"\"\""
      ]
     },
     "execution_count": 137,
     "metadata": {},
     "output_type": "execute_result"
    }
   ],
   "source": [
    "mod = sm.GLM.from_formula(formula = my_formula , data= df_dummy, family=sm.families.Binomial())\n",
    "res = mod.fit()\n",
    "res.summary()"
   ]
  },
  {
   "cell_type": "markdown",
   "metadata": {},
   "source": [
    "To choose the best number of KFolds, we run logit model and get a mean value od AUC."
   ]
  },
  {
   "cell_type": "code",
   "execution_count": 143,
   "metadata": {},
   "outputs": [
    {
     "name": "stdout",
     "output_type": "stream",
     "text": [
      "KFolds: 4 Train AUC: 0.8265157165427626 Valid AUC: 0.8053161082792353\n",
      "KFolds: 5 Train AUC: 0.8258335701552288 Valid AUC: 0.8096141608885592\n",
      "KFolds: 6 Train AUC: 0.8253904212860235 Valid AUC: 0.8123012901332656\n",
      "KFolds: 7 Train AUC: 0.8251682335381167 Valid AUC: 0.8096398618560862\n",
      "KFolds: 8 Train AUC: 0.8251798263497881 Valid AUC: 0.8050650676285648\n",
      "KFolds: 9 Train AUC: 0.8248974302563744 Valid AUC: 0.8116833316787488\n",
      "KFolds: 10 Train AUC: 0.8248913080028727 Valid AUC: 0.8070632646611751\n"
     ]
    }
   ],
   "source": [
    "folds = [4,5,6,7,8,9,10]\n",
    "for f in folds:\n",
    "    trainRes = []\n",
    "    valRes = []\n",
    "    \n",
    "    kf = KFold(n_splits=f, shuffle=True, random_state = 0)\n",
    "\n",
    "    for train, test in kf.split(df_dummy.index.values):\n",
    "        mod = sm.GLM.from_formula(formula=my_formula, data=df_dummy.iloc[train], family=sm.families.Binomial())\n",
    "        res = mod.fit()\n",
    "        predsTrain = res.predict()\n",
    "        preds = res.predict(df_dummy.iloc[test])\n",
    "        trainRes.append(roc_auc_score(df_dummy.iloc[train].target, predsTrain))\n",
    "        valRes.append(roc_auc_score(df_dummy.iloc[test].target, preds))\n",
    "    print(\"KFolds:\", f, \"Train AUC:\", np.mean(trainRes), \"Valid AUC:\", np.mean(valRes))"
   ]
  },
  {
   "cell_type": "markdown",
   "metadata": {},
   "source": [
    "It seems that for KFolds = 6, Valid AUC is the best. <br>\n",
    "KFolds: 6 <br>\n",
    "Train AUC: 0.8254 <br> Valid AUC: 0.8123"
   ]
  },
  {
   "cell_type": "code",
   "execution_count": 145,
   "metadata": {},
   "outputs": [
    {
     "name": "stdout",
     "output_type": "stream",
     "text": [
      "Train AUC: 0.8253904212860235 Valid AUC: 0.8123012901332656\n"
     ]
    }
   ],
   "source": [
    "trainRes = []\n",
    "valRes = []\n",
    "    \n",
    "kf = KFold(n_splits=6, shuffle=True,random_state = 0)\n",
    "\n",
    "for train, test in kf.split(df_dummy.index.values):\n",
    "    mod = sm.GLM.from_formula(formula=my_formula, data=df_dummy.iloc[train], family=sm.families.Binomial())\n",
    "    res = mod.fit()\n",
    "    predsTrain = res.predict()\n",
    "    preds = res.predict(df_dummy.iloc[test])\n",
    "    trainRes.append(roc_auc_score(df_dummy.iloc[train].target, predsTrain))\n",
    "    valRes.append(roc_auc_score(df_dummy.iloc[test].target, preds))\n",
    "print(\"Train AUC:\", np.mean(trainRes), \"Valid AUC:\", np.mean(valRes))"
   ]
  },
  {
   "cell_type": "markdown",
   "metadata": {},
   "source": [
    "#### 3.2. SVM"
   ]
  },
  {
   "cell_type": "markdown",
   "metadata": {},
   "source": [
    "First step is to choose the best kernel."
   ]
  },
  {
   "cell_type": "code",
   "execution_count": null,
   "metadata": {},
   "outputs": [],
   "source": []
  },
  {
   "cell_type": "code",
   "execution_count": 160,
   "metadata": {},
   "outputs": [
    {
     "name": "stdout",
     "output_type": "stream",
     "text": [
      "Train set:  0.8151828996935742\n",
      "Validation set:  0.7945511267335759\n",
      "----------------------------\n"
     ]
    }
   ],
   "source": [
    "aucs = []\n",
    "aucsT = []\n",
    "clf = SVC(C = 1, cache_size=500, kernel= 'linear',\n",
    "          max_iter=-1, probability=True,\n",
    "          tol=0.001, verbose=False, random_state = 3)\n",
    "for train, test in kf.split(df_dummy.index.values):\n",
    "    clf.fit(df_dummy.iloc[train][chosen_vars].values, df_dummy.iloc[train][\"target\"].values)\n",
    "    prob = clf.predict_proba(df_dummy.iloc[test][chosen_vars])\n",
    "    aucs.append(metrics.roc_auc_score(df_dummy.iloc[test][\"target\"].values, prob[:,1])) \n",
    "\n",
    "    prob2 = clf.predict_proba(df_dummy.iloc[train][chosen_vars])\n",
    "    aucsT.append(metrics.roc_auc_score(df_dummy.iloc[train][\"target\"].values, prob2[:,1]))\n",
    "\n",
    "print(\"Train set: \", np.mean(aucsT))\n",
    "print(\"Validation set: \", np.mean(aucs))\n",
    "print(\"----------------------------\")"
   ]
  },
  {
   "cell_type": "code",
   "execution_count": 161,
   "metadata": {
    "scrolled": true
   },
   "outputs": [
    {
     "name": "stdout",
     "output_type": "stream",
     "text": [
      "Degree:  2\n",
      "Train set:  0.8554274266868488\n",
      "Validation set:  0.809066634545422\n",
      "----------------------------\n",
      "Degree:  3\n",
      "Train set:  0.8682398589014071\n",
      "Validation set:  0.8102489513738547\n",
      "----------------------------\n",
      "Degree:  4\n",
      "Train set:  0.8819805885617858\n",
      "Validation set:  0.7939778534207277\n",
      "----------------------------\n",
      "Degree:  5\n",
      "Train set:  0.8945734048446934\n",
      "Validation set:  0.7887679172437074\n",
      "----------------------------\n"
     ]
    }
   ],
   "source": [
    "degrees = [2,3,4,5]\n",
    "\n",
    "for d in degrees:\n",
    "    aucs = []\n",
    "    aucsT = []\n",
    "    clf = SVC(C = 1, cache_size=500, kernel= 'poly', degree = d,\n",
    "              max_iter=-1, probability=True,\n",
    "              tol=0.001, verbose=False, random_state = 0)\n",
    "    for train, test in kf.split(df_dummy.index.values):\n",
    "        clf.fit(df_dummy.iloc[train][chosen_vars].values, df_dummy.iloc[train][\"target\"].values)\n",
    "        prob = clf.predict_proba(df_dummy.iloc[test][chosen_vars])\n",
    "        aucs.append(metrics.roc_auc_score(df_dummy.iloc[test][\"target\"].values, prob[:,1])) \n",
    "\n",
    "        prob2 = clf.predict_proba(df_dummy.iloc[train][chosen_vars])\n",
    "        aucsT.append(metrics.roc_auc_score(df_dummy.iloc[train][\"target\"].values, prob2[:,1]))\n",
    "    print(\"Degree: \", d)\n",
    "    print(\"Train set: \", np.mean(aucsT))\n",
    "    print(\"Validation set: \", np.mean(aucs))\n",
    "    print(\"----------------------------\")"
   ]
  },
  {
   "cell_type": "markdown",
   "metadata": {},
   "source": [
    "Best AUC score is for degree equal to 3."
   ]
  },
  {
   "cell_type": "code",
   "execution_count": 162,
   "metadata": {},
   "outputs": [
    {
     "name": "stdout",
     "output_type": "stream",
     "text": [
      "Train set:  0.8631215461588649\n",
      "Validation set:  0.8140547649370614\n",
      "----------------------------\n"
     ]
    }
   ],
   "source": [
    "aucs = []\n",
    "aucsT = []\n",
    "clf = SVC(C = 1, cache_size=500, kernel= 'rbf', \n",
    "          max_iter=-1, probability=True,\n",
    "          tol=0.001, verbose=False, random_state = 0)\n",
    "for train, test in kf.split(df_dummy.index.values):\n",
    "    clf.fit(df_dummy.iloc[train][chosen_vars].values, df_dummy.iloc[train][\"target\"].values)\n",
    "    prob = clf.predict_proba(df_dummy.iloc[test][chosen_vars])\n",
    "    aucs.append(metrics.roc_auc_score(df_dummy.iloc[test][\"target\"].values, prob[:,1])) \n",
    "\n",
    "    prob2 = clf.predict_proba(df_dummy.iloc[train][chosen_vars])\n",
    "    aucsT.append(metrics.roc_auc_score(df_dummy.iloc[train][\"target\"].values, prob2[:,1]))\n",
    "print(\"Train set: \", np.mean(aucsT))\n",
    "print(\"Validation set: \", np.mean(aucs))\n",
    "print(\"----------------------------\")"
   ]
  },
  {
   "cell_type": "markdown",
   "metadata": {},
   "source": [
    "The best AUC score is for RBF kernel, so we will proceed with this kernel type. <br>\n",
    "Next step is to choose the best number of Folds."
   ]
  },
  {
   "cell_type": "code",
   "execution_count": 165,
   "metadata": {
    "scrolled": true
   },
   "outputs": [
    {
     "name": "stdout",
     "output_type": "stream",
     "text": [
      "KFolds:  3\n",
      "Train set:  0.8705632667501377\n",
      "Validation set:  0.8097935841804449\n",
      "----------------------------\n",
      "KFolds:  5\n",
      "Train set:  0.8659458759191836\n",
      "Validation set:  0.8174221058731194\n",
      "----------------------------\n",
      "KFolds:  8\n",
      "Train set:  0.8633774329516467\n",
      "Validation set:  0.8101636070010771\n",
      "----------------------------\n",
      "KFolds:  10\n",
      "Train set:  0.8631215461588649\n",
      "Validation set:  0.8140547649370614\n",
      "----------------------------\n"
     ]
    }
   ],
   "source": [
    "K = [3, 5, 8, 10]\n",
    "\n",
    "for k in K:\n",
    "    kf = KFold(n_splits=k, random_state=0, shuffle =True)\n",
    "\n",
    "    aucs = []\n",
    "    aucsT = []\n",
    "    clf = SVC(C = 1, cache_size=500, kernel= 'rbf', \n",
    "              max_iter=-1, probability=True,\n",
    "              tol=0.001, verbose=False, random_state = 0)\n",
    "    for train, test in kf.split(df_dummy.index.values):\n",
    "        clf.fit(df_dummy.iloc[train][chosen_vars].values, df_dummy.iloc[train][\"target\"].values)\n",
    "        prob = clf.predict_proba(df_dummy.iloc[test][chosen_vars])\n",
    "        aucs.append(metrics.roc_auc_score(df_dummy.iloc[test][\"target\"].values, prob[:,1])) \n",
    "\n",
    "        prob2 = clf.predict_proba(df_dummy.iloc[train][chosen_vars])\n",
    "        aucsT.append(metrics.roc_auc_score(df_dummy.iloc[train][\"target\"].values, prob2[:,1]))\n",
    "        \n",
    "    print(\"KFolds: \", k) \n",
    "    print(\"Train set: \", np.mean(aucsT))\n",
    "    print(\"Validation set: \", np.mean(aucs))\n",
    "    print(\"----------------------------\")"
   ]
  },
  {
   "cell_type": "markdown",
   "metadata": {},
   "source": [
    "The best AUC score is for 5 Folds. <br>\n",
    "Train set:  0.8659\n",
    "Validation set:  0.8174 <br>\n",
    "Next step is to choose the best cost regularization parameter."
   ]
  },
  {
   "cell_type": "code",
   "execution_count": 198,
   "metadata": {},
   "outputs": [
    {
     "name": "stdout",
     "output_type": "stream",
     "text": [
      "Cost:  0.01\n",
      "Train set:  0.8549303193640909\n",
      "Validation set:  0.8158034263839747\n",
      "----------------------------\n",
      "Cost:  0.1\n",
      "Train set:  0.8552462948321853\n",
      "Validation set:  0.8163902403232033\n",
      "----------------------------\n",
      "Cost:  0.5\n",
      "Train set:  0.8592479477314626\n",
      "Validation set:  0.8180569847757548\n",
      "----------------------------\n",
      "Cost:  1\n",
      "Train set:  0.8659458759191836\n",
      "Validation set:  0.8174221058731194\n",
      "----------------------------\n",
      "Cost:  2\n",
      "Train set:  0.8738649087671135\n",
      "Validation set:  0.8125450016901101\n",
      "----------------------------\n",
      "Cost:  3\n",
      "Train set:  0.8806512699922717\n",
      "Validation set:  0.8083397036065622\n",
      "----------------------------\n",
      "Cost:  5\n",
      "Train set:  0.8884978113717867\n",
      "Validation set:  0.8069082026123123\n",
      "----------------------------\n",
      "Cost:  10\n",
      "Train set:  0.9008625731050625\n",
      "Validation set:  0.8026133110494531\n",
      "----------------------------\n"
     ]
    }
   ],
   "source": [
    "kf = KFold(n_splits=5, random_state=0, shuffle =True)\n",
    "\n",
    "C = [0.01, 0.1, 0.5, 1, 2, 3, 5, 10]\n",
    "\n",
    "for c in C:\n",
    "    aucs = []\n",
    "    aucsT = []\n",
    "    clf = SVC(C = c, cache_size=500, kernel= 'rbf',\n",
    "              max_iter=-1, probability=True,\n",
    "              tol=0.001, verbose=False, random_state = 0)\n",
    "    for train, test in kf.split(df_dummy.index.values):\n",
    "        clf.fit(df_dummy.iloc[train][chosen_vars].values, df_dummy.iloc[train][\"target\"].values)\n",
    "        prob = clf.predict_proba(df_dummy.iloc[test][chosen_vars])\n",
    "        aucs.append(metrics.roc_auc_score(df_dummy.iloc[test][\"target\"].values, prob[:,1])) \n",
    "\n",
    "        prob2 = clf.predict_proba(df_dummy.iloc[train][chosen_vars])\n",
    "        aucsT.append(metrics.roc_auc_score(df_dummy.iloc[train][\"target\"].values, prob2[:,1]))\n",
    "    print(\"Cost: \", c)\n",
    "    print(\"Train set: \", np.mean(aucsT))\n",
    "    print(\"Validation set: \", np.mean(aucs))\n",
    "    print(\"----------------------------\")"
   ]
  },
  {
   "cell_type": "markdown",
   "metadata": {},
   "source": [
    "The best AUC score is for cost parameter 0.5. <br>\n",
    "Train set:  0.8592\n",
    "Validation set:  0.8181 <br> <br>\n",
    "To sum up, the best model is SVM with parameters: kernel = rbf, kfolds = 5 and c = 0.5.  "
   ]
  },
  {
   "cell_type": "code",
   "execution_count": 199,
   "metadata": {},
   "outputs": [
    {
     "name": "stdout",
     "output_type": "stream",
     "text": [
      "Cost:  10\n",
      "Train set:  0.8592479477314626\n",
      "Validation set:  0.8180569847757548\n",
      "----------------------------\n"
     ]
    }
   ],
   "source": [
    "kf = KFold(n_splits=5, random_state=0, shuffle =True)\n",
    "\n",
    "aucs = []\n",
    "aucsT = []\n",
    "clf = SVC(C = 0.5, cache_size=500, kernel= 'rbf',\n",
    "          max_iter=-1, probability=True,\n",
    "          tol=0.001, verbose=False, random_state = 0)\n",
    "for train, test in kf.split(df_dummy.index.values):\n",
    "    clf.fit(df_dummy.iloc[train][chosen_vars].values, df_dummy.iloc[train][\"target\"].values)\n",
    "    prob_SVM = clf.predict_proba(df_dummy.iloc[test][chosen_vars])\n",
    "    aucs.append(metrics.roc_auc_score(df_dummy.iloc[test][\"target\"].values, prob_SVM[:,1])) \n",
    "\n",
    "    prob2 = clf.predict_proba(df_dummy.iloc[train][chosen_vars])\n",
    "    aucsT.append(metrics.roc_auc_score(df_dummy.iloc[train][\"target\"].values, prob2[:,1]))\n",
    "print(\"Cost: \", c)\n",
    "print(\"Train set: \", np.mean(aucsT))\n",
    "print(\"Validation set: \", np.mean(aucs))\n",
    "print(\"----------------------------\")"
   ]
  },
  {
   "cell_type": "markdown",
   "metadata": {},
   "source": [
    "#### 3.3. KNN"
   ]
  },
  {
   "cell_type": "markdown",
   "metadata": {},
   "source": [
    "First thing is to choose the best folds number for Euclidean and Manhattan distance. "
   ]
  },
  {
   "cell_type": "code",
   "execution_count": 176,
   "metadata": {},
   "outputs": [
    {
     "name": "stdout",
     "output_type": "stream",
     "text": [
      "KFolds:  3\n",
      "AUC:  0.7911797804765718\n",
      "ACC:  0.7627401837928153\n",
      "KFolds:  5\n",
      "AUC:  0.8019740871052313\n",
      "ACC:  0.7660529986052997\n",
      "KFolds:  8\n",
      "AUC:  0.8021276327789599\n",
      "ACC:  0.7685458612975391\n",
      "KFolds:  10\n",
      "AUC:  0.8060769411333666\n",
      "ACC:  0.7701680672268908\n"
     ]
    }
   ],
   "source": [
    "# Euclidean\n",
    "K = [3, 5, 8, 10]\n",
    "for k in K:\n",
    "    kf = KFold(n_splits=k, shuffle=True, random_state=0)\n",
    "    probs = []\n",
    "    indicies = []\n",
    "    aucs = []\n",
    "    bacc = []\n",
    "    accs = []\n",
    "    n_neighbors = int(math.sqrt(df_dummy.shape[0]))\n",
    "    clf = neighbors.KNeighborsClassifier(n_neighbors, n_jobs=-1, p=1)\n",
    "    for train, test in kf.split(df_dummy.index.values):\n",
    "        clf.fit(df_dummy.iloc[train][chosen_vars].values, df_dummy.iloc[train][\"target\"].values)\n",
    "        prob = clf.predict_proba(df_dummy.iloc[test][chosen_vars].values)\n",
    "        probs.append(prob)\n",
    "        indicies.append(test)\n",
    "        aucs.append(metrics.roc_auc_score(df_dummy.iloc[test][\"target\"].values, prob[:,1]))\n",
    "        accs.append(metrics.accuracy_score(df_dummy.iloc[test][\"target\"].values, (prob[:,1]>0.50).astype(int)))\n",
    "    print(\"KFolds: \", k)\n",
    "    print('AUC: ', np.mean(aucs))\n",
    "    print('ACC: ',np.mean(accs))\n"
   ]
  },
  {
   "cell_type": "code",
   "execution_count": 175,
   "metadata": {},
   "outputs": [
    {
     "name": "stdout",
     "output_type": "stream",
     "text": [
      "KFolds:  3\n",
      "AUC:  0.7942295560352797\n",
      "ACC:  0.7585630743525481\n",
      "KFolds:  5\n",
      "AUC:  0.8000064472863075\n",
      "ACC:  0.7627161785216179\n",
      "KFolds:  8\n",
      "AUC:  0.8027594610024307\n",
      "ACC:  0.7568400447427293\n",
      "KFolds:  10\n",
      "AUC:  0.8060531057081883\n",
      "ACC:  0.7618137254901961\n"
     ]
    }
   ],
   "source": [
    "# Manhattan\n",
    "K = [3, 5, 8, 10]\n",
    "for k in K:\n",
    "    kf = KFold(n_splits=k, shuffle=True, random_state=0)\n",
    "    probs = []\n",
    "    indicies = []\n",
    "    aucs = []\n",
    "    bacc = []\n",
    "    accs = []\n",
    "    n_neighbors = int(math.sqrt(df_dummy.shape[0]))\n",
    "    clf = neighbors.KNeighborsClassifier(n_neighbors, n_jobs=-1, p=2)\n",
    "    for train, test in kf.split(df_dummy.index.values):\n",
    "        clf.fit(df_dummy.iloc[train][chosen_vars].values, df_dummy.iloc[train][\"target\"].values)\n",
    "        prob = clf.predict_proba(df_dummy.iloc[test][chosen_vars].values)\n",
    "        probs.append(prob)\n",
    "        indicies.append(test)\n",
    "        aucs.append(metrics.roc_auc_score(df_dummy.iloc[test][\"target\"].values, prob[:,1]))\n",
    "        accs.append(metrics.accuracy_score(df_dummy.iloc[test][\"target\"].values, (prob[:,1]>0.50).astype(int)))\n",
    "    print(\"KFolds: \", k)\n",
    "    print('AUC: ', np.mean(aucs))\n",
    "    print('ACC: ',np.mean(accs))\n"
   ]
  },
  {
   "cell_type": "markdown",
   "metadata": {},
   "source": [
    "As we can see above results that we get using Manhattan distance are worse that for Euclidean distance. <br>\n",
    "The best AUC score and accuracy is for 10 folds. <br>\n",
    "AUC:  0.8061\n",
    "ACC:  0.7702 <br> <br>\n",
    "Next thing is to choose better neighbors number."
   ]
  },
  {
   "cell_type": "code",
   "execution_count": 179,
   "metadata": {},
   "outputs": [
    {
     "name": "stdout",
     "output_type": "stream",
     "text": [
      "Number of neighbours:  24\n",
      "AUC:  0.8113199102539937\n",
      "ACC:  0.775203081232493\n",
      "Number of neighbours:  27\n",
      "AUC:  0.8066482154526604\n",
      "ACC:  0.7676470588235295\n",
      "Number of neighbours:  31\n",
      "AUC:  0.807850099436741\n",
      "ACC:  0.7601190476190476\n",
      "Number of neighbours:  34\n",
      "AUC:  0.8060769411333666\n",
      "ACC:  0.7701680672268908\n",
      "Number of neighbours:  38\n",
      "AUC:  0.8009786892810208\n",
      "ACC:  0.7726680672268907\n",
      "Number of neighbours:  41\n",
      "AUC:  0.7957665486938807\n",
      "ACC:  0.7593487394957983\n",
      "Number of neighbours:  44\n",
      "AUC:  0.7967705784913583\n",
      "ACC:  0.763515406162465\n"
     ]
    }
   ],
   "source": [
    "neighbors_list = [0.7, 0.8, 0.9, 1, 1.1, 1.2, 1.3]\n",
    "for n in neighbors_list:\n",
    "    kf = KFold(n_splits=10, random_state=0, shuffle=True)\n",
    "    probs = []\n",
    "    indicies = []\n",
    "    aucs = []\n",
    "    bacc = []\n",
    "    accs = []\n",
    "    n_neighbors = math.sqrt(df_dummy.shape[0])\n",
    "    clf = neighbors.KNeighborsClassifier(int(n_neighbors*n), n_jobs=-1, p=1)\n",
    "    for train, test in kf.split(df_dummy.index.values):\n",
    "        clf.fit(df_dummy.iloc[train][chosen_vars].values, df_dummy.iloc[train][\"target\"].values)\n",
    "        prob = clf.predict_proba(df_dummy.iloc[test][chosen_vars].values)\n",
    "        probs.append(prob)\n",
    "        indicies.append(test)\n",
    "        aucs.append(metrics.roc_auc_score(df_dummy.iloc[test][\"target\"].values, prob[:,1]))\n",
    "        accs.append(metrics.accuracy_score(df_dummy.iloc[test][\"target\"].values, (prob[:,1]>0.50).astype(int)))\n",
    "    print(\"Number of neighbours: \", int(n_neighbors*n))\n",
    "    print('AUC: ', np.mean(aucs))\n",
    "    print('ACC: ',np.mean(accs))\n"
   ]
  },
  {
   "cell_type": "markdown",
   "metadata": {},
   "source": [
    "We get the best AUC for 23 neighbours. <br> <br>\n",
    "To sum up, the best model is KNN with parameters: p = 1, kfolds = 10 and neighbours = 24.  "
   ]
  },
  {
   "cell_type": "code",
   "execution_count": 195,
   "metadata": {},
   "outputs": [
    {
     "name": "stdout",
     "output_type": "stream",
     "text": [
      "Number of neighbours:  24\n",
      "AUC:  0.8113199102539937\n",
      "ACC:  0.775203081232493\n"
     ]
    }
   ],
   "source": [
    "kf = KFold(n_splits=10, random_state=0, shuffle=True)\n",
    "n=0.7\n",
    "probs = []\n",
    "indicies = []\n",
    "aucs = []\n",
    "bacc = []\n",
    "accs = []\n",
    "n_neighbors = math.sqrt(df_dummy.shape[0])\n",
    "clf = neighbors.KNeighborsClassifier(int(n_neighbors*n), n_jobs=-1, p=1)\n",
    "for train, test in kf.split(df_dummy.index.values):\n",
    "    clf.fit(df_dummy.iloc[train][chosen_vars].values, df_dummy.iloc[train][\"target\"].values)\n",
    "    prob_KNN = clf.predict_proba(df_dummy.iloc[test][chosen_vars].values)\n",
    "    probs.append(prob_KNN)\n",
    "    indicies.append(test)\n",
    "    aucs.append(metrics.roc_auc_score(df_dummy.iloc[test][\"target\"].values, prob_KNN[:,1]))\n",
    "    accs.append(metrics.accuracy_score(df_dummy.iloc[test][\"target\"].values, (prob_KNN[:,1]>0.50).astype(int)))\n",
    "print(\"Number of neighbours: \", int(n_neighbors*n))\n",
    "print('AUC: ', np.mean(aucs))\n",
    "print('ACC: ',np.mean(accs))"
   ]
  },
  {
   "cell_type": "markdown",
   "metadata": {},
   "source": [
    "#### Summary and imbalance"
   ]
  },
  {
   "cell_type": "markdown",
   "metadata": {},
   "source": [
    "As we can see, the best results was developed using SVM model with parameters: kernel = rbf, kfolds = 5 and c = 0.5 >> AUC = 0.81801. <br>This database is imbalanced and there are not many observations so we decided to use SMOTE for oversampling and see if it works."
   ]
  },
  {
   "cell_type": "code",
   "execution_count": 207,
   "metadata": {},
   "outputs": [],
   "source": [
    "from sklearn.model_selection import train_test_split\n",
    "test_size = 0.4 # because we will increase number of observations in traindata, so here we have to also increase the test size\n",
    "gTrain, gValid = train_test_split(df_dummy, test_size=test_size, random_state=2017, stratify=df_dummy[\"target\"].values)"
   ]
  },
  {
   "cell_type": "code",
   "execution_count": 208,
   "metadata": {
    "scrolled": true
   },
   "outputs": [
    {
     "data": {
      "text/plain": [
       "1.0    350\n",
       "0.0    129\n",
       "Name: target, dtype: int64"
      ]
     },
     "execution_count": 208,
     "metadata": {},
     "output_type": "execute_result"
    }
   ],
   "source": [
    "gValid.target.value_counts()"
   ]
  },
  {
   "cell_type": "markdown",
   "metadata": {},
   "source": [
    "##### Logit model"
   ]
  },
  {
   "cell_type": "code",
   "execution_count": 224,
   "metadata": {},
   "outputs": [
    {
     "name": "stdout",
     "output_type": "stream",
     "text": [
      "(735, 18) \n",
      " 1.0    525\n",
      "0.0    210\n",
      "Name: target, dtype: int64\n",
      "(787, 18) \n",
      " 1.0    525\n",
      "0.0    262\n",
      "Name: target, dtype: int64\n",
      "(892, 18) \n",
      " 1.0    525\n",
      "0.0    367\n",
      "Name: target, dtype: int64\n"
     ]
    }
   ],
   "source": [
    "from imblearn.over_sampling import SMOTE\n",
    "smt = SMOTE(sampling_strategy=0.4, random_state=0)\n",
    "X_resampled, y_resampled = smt.fit_resample(gTrain[chosen_vars], gTrain.target)\n",
    "df_oversamp_1 = pd.DataFrame(X_resampled, columns=chosen_vars)\n",
    "df_oversamp_1[\"target\"] = y_resampled\n",
    "gTrain_1 = df_oversamp_1.copy()\n",
    "print(gTrain_1.shape,'\\n',gTrain_1.target.value_counts())\n",
    "\n",
    "smt = SMOTE(sampling_strategy=0.5, random_state=0)\n",
    "X_resampled, y_resampled = smt.fit_resample(gTrain[chosen_vars], gTrain.target)\n",
    "df_oversamp_2 = pd.DataFrame(X_resampled, columns=chosen_vars)\n",
    "df_oversamp_2[\"target\"] = y_resampled\n",
    "gTrain_2 = df_oversamp_2.copy()\n",
    "print(gTrain_2.shape, '\\n', gTrain_2.target.value_counts())\n",
    "\n",
    "smt = SMOTE(sampling_strategy=0.7, random_state=0)\n",
    "X_resampled, y_resampled = smt.fit_resample(gTrain[chosen_vars], gTrain.target)\n",
    "df_oversamp_3 = pd.DataFrame(X_resampled, columns=chosen_vars)\n",
    "df_oversamp_3[\"target\"] = y_resampled\n",
    "gTrain_3 = df_oversamp_3.copy()\n",
    "print(gTrain_3.shape,'\\n',gTrain_3.target.value_counts())"
   ]
  },
  {
   "cell_type": "code",
   "execution_count": 220,
   "metadata": {},
   "outputs": [
    {
     "name": "stdout",
     "output_type": "stream",
     "text": [
      "Train AUC: 0.8314140312613595 Valid AUC: 0.8072868217054263\n",
      "Train AUC: 0.8421149604255871 Valid AUC: 0.8109856035437432\n",
      "Train AUC: 0.849342403628118 Valid AUC: 0.8042303433001108\n"
     ]
    }
   ],
   "source": [
    "mod = sm.GLM.from_formula(formula=my_formula, data=gTrain_1, family=sm.families.Binomial())\n",
    "res = mod.fit()\n",
    "predsTrain_1 = res.predict()\n",
    "preds_1 = res.predict(gValid)\n",
    "print(\"Train AUC:\", metrics.roc_auc_score(gTrain_1.target, predsTrain_1),\n",
    "      \"Valid AUC:\", metrics.roc_auc_score(gValid.target, preds_1))\n",
    "\n",
    "mod = sm.GLM.from_formula(formula=my_formula, data=gTrain_2, family=sm.families.Binomial())\n",
    "res = mod.fit()\n",
    "predsTrain_2 = res.predict()\n",
    "preds_2 = res.predict(gValid)\n",
    "print(\"Train AUC:\", metrics.roc_auc_score(gTrain_2.target, predsTrain_2),\n",
    "      \"Valid AUC:\", metrics.roc_auc_score(gValid.target, preds_2))\n",
    "\n",
    "mod = sm.GLM.from_formula(formula=my_formula, data=gTrain_3, family=sm.families.Binomial())\n",
    "res = mod.fit()\n",
    "predsTrain_3 = res.predict()\n",
    "preds_3 = res.predict(gValid)\n",
    "print(\"Train AUC:\", metrics.roc_auc_score(gTrain_3.target, predsTrain_3),\n",
    "      \"Valid AUC:\", metrics.roc_auc_score(gValid.target, preds_3))"
   ]
  },
  {
   "cell_type": "markdown",
   "metadata": {},
   "source": [
    "It seems that it did not help for logit model. Before we get AUC at the level of Valid AUC: 0.8123, and now the best one is about 0.81098. <br>"
   ]
  },
  {
   "cell_type": "markdown",
   "metadata": {},
   "source": [
    "##### SVM"
   ]
  },
  {
   "cell_type": "code",
   "execution_count": 225,
   "metadata": {},
   "outputs": [
    {
     "name": "stdout",
     "output_type": "stream",
     "text": [
      "(787, 18) \n",
      " 1.0    525\n",
      "0.0    262\n",
      "Name: target, dtype: int64\n",
      "(892, 18) \n",
      " 1.0    525\n",
      "0.0    367\n",
      "Name: target, dtype: int64\n",
      "(1050, 18) \n",
      " 0.0    525\n",
      "1.0    525\n",
      "Name: target, dtype: int64\n"
     ]
    }
   ],
   "source": [
    "from imblearn.over_sampling import SMOTE\n",
    "smt = SMOTE(sampling_strategy=0.5, random_state=0)\n",
    "X_resampled, y_resampled = smt.fit_resample(gTrain[chosen_vars], gTrain.target)\n",
    "df_oversamp_1 = pd.DataFrame(X_resampled, columns=chosen_vars)\n",
    "df_oversamp_1[\"target\"] = y_resampled\n",
    "gTrain_1 = df_oversamp_1.copy()\n",
    "print(gTrain_1.shape,'\\n',gTrain_1.target.value_counts())\n",
    "\n",
    "smt = SMOTE(sampling_strategy=0.7, random_state=0)\n",
    "X_resampled, y_resampled = smt.fit_resample(gTrain[chosen_vars], gTrain.target)\n",
    "df_oversamp_2 = pd.DataFrame(X_resampled, columns=chosen_vars)\n",
    "df_oversamp_2[\"target\"] = y_resampled\n",
    "gTrain_2 = df_oversamp_2.copy()\n",
    "print(gTrain_2.shape, '\\n', gTrain_2.target.value_counts())\n",
    "\n",
    "smt = SMOTE(sampling_strategy=1, random_state=0)\n",
    "X_resampled, y_resampled = smt.fit_resample(gTrain[chosen_vars], gTrain.target)\n",
    "df_oversamp_3 = pd.DataFrame(X_resampled, columns=chosen_vars)\n",
    "df_oversamp_3[\"target\"] = y_resampled\n",
    "gTrain_3 = df_oversamp_3.copy()\n",
    "print(gTrain_3.shape,'\\n',gTrain_3.target.value_counts())"
   ]
  },
  {
   "cell_type": "code",
   "execution_count": 226,
   "metadata": {},
   "outputs": [
    {
     "name": "stdout",
     "output_type": "stream",
     "text": [
      "Train set:  [0.8667284623773173]\n",
      "Validation set:  [0.8287264673311184]\n",
      "----------------------------\n",
      "Train set:  [0.883184118333982]\n",
      "Validation set:  [0.8273532668881506]\n",
      "----------------------------\n",
      "Train set:  [0.8807310657596372]\n",
      "Validation set:  [0.8245182724252491]\n",
      "----------------------------\n"
     ]
    }
   ],
   "source": [
    "kf = KFold(n_splits=5,random_state=0, shuffle=True)\n",
    "\n",
    "clf = SVC(C = 0.5, cache_size=500, kernel= 'rbf',\n",
    "max_iter=-1, probability=True,\n",
    "tol=0.001, verbose=False, random_state = 0)\n",
    "\n",
    "aucs = []\n",
    "aucsT = []\n",
    "clf.fit(gTrain_1[chosen_vars].values, gTrain_1[\"target\"].values)\n",
    "prob_o_1 = clf.predict_proba(gValid[chosen_vars])\n",
    "aucs.append(metrics.roc_auc_score(gValid[\"target\"].values, prob_o_1[:,1]))\n",
    "prob2_o_1 = clf.predict_proba(gTrain_1[chosen_vars])\n",
    "aucsT.append(metrics.roc_auc_score(gTrain_1[\"target\"].values, prob2_o_1[:,1]))\n",
    "\n",
    "print(\"Train set: \", aucsT)\n",
    "print(\"Validation set: \", aucs)\n",
    "print(\"----------------------------\")\n",
    "\n",
    "aucs = []\n",
    "aucsT = []\n",
    "clf.fit(gTrain_2[chosen_vars].values, gTrain_2[\"target\"].values)\n",
    "prob_o_2 = clf.predict_proba(gValid[chosen_vars])\n",
    "aucs.append(metrics.roc_auc_score(gValid[\"target\"].values, prob_o_2[:,1]))\n",
    "prob2_o_2 = clf.predict_proba(gTrain_2[chosen_vars])\n",
    "aucsT.append(metrics.roc_auc_score(gTrain_2[\"target\"].values, prob2_o_2[:,1]))\n",
    "\n",
    "print(\"Train set: \", aucsT)\n",
    "print(\"Validation set: \", aucs)\n",
    "print(\"----------------------------\")\n",
    "\n",
    "aucs = []\n",
    "aucsT = []\n",
    "clf.fit(gTrain_3[chosen_vars].values, gTrain_3[\"target\"].values)\n",
    "prob_o_3 = clf.predict_proba(gValid[chosen_vars])\n",
    "aucs.append(metrics.roc_auc_score(gValid[\"target\"].values, prob_o_3[:,1]))\n",
    "prob2_o_3 = clf.predict_proba(gTrain_3[chosen_vars])\n",
    "aucsT.append(metrics.roc_auc_score(gTrain_3[\"target\"].values, prob2_o_3[:,1]))\n",
    "\n",
    "\n",
    "print(\"Train set: \", aucsT)\n",
    "print(\"Validation set: \", aucs)\n",
    "print(\"----------------------------\")"
   ]
  },
  {
   "cell_type": "markdown",
   "metadata": {},
   "source": [
    "In case of SVM before the highest value of AUC was 0.8181. Now for the 0.5 ratio of zeros and ones the value increased to 0.8287, so it's better now.\n"
   ]
  },
  {
   "cell_type": "markdown",
   "metadata": {},
   "source": [
    "##### KNN"
   ]
  },
  {
   "cell_type": "code",
   "execution_count": null,
   "metadata": {},
   "outputs": [],
   "source": []
  },
  {
   "cell_type": "code",
   "execution_count": 228,
   "metadata": {},
   "outputs": [
    {
     "data": {
      "image/png": "[encoded data removed]",
      "text/plain": [
       "<Figure size 576x432 with 1 Axes>"
      ]
     },
     "metadata": {
      "needs_background": "light"
     },
     "output_type": "display_data"
    }
   ],
   "source": [
    "# COMPARE\n",
    "from sklearn.metrics import roc_curve\n",
    "plt.figure(figsize=(8,6))\n",
    "lw = 1\n",
    "fprNS2, tprNS2, _ = roc_curve(gValid.target, preds_2)\n",
    "plt.plot(fprNS2, tprNS2, color='darkorange',\n",
    "         lw=lw, label='logit_over_preds')\n",
    "fprNS2, tprNS2, _ = roc_curve(gValid.target, prob_o_1[:,1])\n",
    "plt.plot(fprNS2, tprNS2, color='blue',\n",
    "         lw=lw, label='SVM_over_prob')\n",
    "\n",
    "# fprNS2, tprNS2, _ = roc_curve(gValid.success, prob_o_3[:,1])\n",
    "# plt.plot(fprNS2, tprNS2, color='red',\n",
    "#          lw=lw, label='preds_1')\n",
    "\n",
    "plt.plot([0, 1], [0, 1], color='navy', lw=lw, linestyle='--')\n",
    "plt.xlim([0.0, 1.0])\n",
    "plt.ylim([0.0, 1.05])\n",
    "plt.xlabel('False Positive Rate')\n",
    "plt.ylabel('True Positive Rate')\n",
    "plt.title('Receiver operating characteristic example')\n",
    "plt.legend(loc=\"lower right\")\n",
    "plt.show()"
   ]
  },
  {
   "cell_type": "code",
   "execution_count": null,
   "metadata": {},
   "outputs": [],
   "source": []
  }
 ],
 "metadata": {
  "kernelspec": {
   "display_name": "Python 3",
   "language": "python",
   "name": "python3"
  },
  "language_info": {
   "codemirror_mode": {
    "name": "ipython",
    "version": 3
   },
   "file_extension": ".py",
   "mimetype": "text/x-python",
   "name": "python",
   "nbconvert_exporter": "python",
   "pygments_lexer": "ipython3",
   "version": "3.7.10"
  }
 },
 "nbformat": 4,
 "nbformat_minor": 4
}
