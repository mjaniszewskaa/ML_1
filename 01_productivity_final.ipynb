{
 "cells": [
  {
   "cell_type": "markdown",
   "metadata": {},
   "source": [
    "## Productivity"
   ]
  },
  {
   "cell_type": "markdown",
   "metadata": {},
   "source": [
    "### 1. Import and cleaning data"
   ]
  },
  {
   "cell_type": "markdown",
   "metadata": {},
   "source": [
    "xxx"
   ]
  },
  {
   "cell_type": "code",
   "execution_count": 2,
   "metadata": {},
   "outputs": [],
   "source": [
    "import pandas as pd\n",
    "import numpy as np\n",
    "import pickle\n",
    "import statsmodels.api as sm\n",
    "\n",
    "import matplotlib.pyplot as plt\n",
    "plt.style.use('seaborn-ticks')\n",
    "%matplotlib inline\n",
    "\n",
    "pd.set_option(\"display.max_columns\",101)\n",
    "\n",
    "import gc\n",
    "import math"
   ]
  },
  {
   "cell_type": "code",
   "execution_count": 3,
   "metadata": {},
   "outputs": [
    {
     "name": "stdout",
     "output_type": "stream",
     "text": [
      "Index(['date', 'quarter', 'department', 'day', 'team', 'targeted_productivity',\n",
      "       'smv', 'wip', 'over_time', 'incentive', 'idle_time', 'idle_men',\n",
      "       'no_of_style_change', 'no_of_workers', 'actual_productivity', 'prod',\n",
      "       'success', 'is_incentive', 'is_idle_time', 'month', 'is_style_change'],\n",
      "      dtype='object')\n",
      "[1 0]\n"
     ]
    }
   ],
   "source": [
    "df = pd.read_pickle(r'C:\\Users\\mjani\\OneDrive\\ML1\\productivity_ready.p')\n",
    "print(df.columns)\n",
    "print(df.success.unique())"
   ]
  },
  {
   "cell_type": "code",
   "execution_count": 4,
   "metadata": {},
   "outputs": [],
   "source": [
    "# features that we will use\n",
    "features = [\"success\",\"month\", \"department\", \"day\", \"team\", \"smv\",\"over_time\",\n",
    "            \"is_incentive\", \"is_idle_time\", \"is_style_change\", \"no_of_workers\"]\n",
    "levCols = []\n",
    "numCols = []\n",
    "for col in features:\n",
    "    if df[col].dtype==object:\n",
    "        levCols.append(col)\n",
    "    else:\n",
    "        numCols.append(col)"
   ]
  },
  {
   "cell_type": "code",
   "execution_count": 5,
   "metadata": {},
   "outputs": [
    {
     "data": {
      "text/plain": [
       "0       1\n",
       "1       1\n",
       "2       1\n",
       "3       1\n",
       "4       1\n",
       "       ..\n",
       "1192    0\n",
       "1193    0\n",
       "1194    0\n",
       "1195    0\n",
       "1196    0\n",
       "Name: success, Length: 1197, dtype: int64"
      ]
     },
     "execution_count": 5,
     "metadata": {},
     "output_type": "execute_result"
    }
   ],
   "source": [
    "df[\"success\"]"
   ]
  },
  {
   "cell_type": "code",
   "execution_count": 6,
   "metadata": {},
   "outputs": [
    {
     "data": {
      "text/html": [
       "<div>\n",
       "<style scoped>\n",
       "    .dataframe tbody tr th:only-of-type {\n",
       "        vertical-align: middle;\n",
       "    }\n",
       "\n",
       "    .dataframe tbody tr th {\n",
       "        vertical-align: top;\n",
       "    }\n",
       "\n",
       "    .dataframe thead th {\n",
       "        text-align: right;\n",
       "    }\n",
       "</style>\n",
       "<table border=\"1\" class=\"dataframe\">\n",
       "  <thead>\n",
       "    <tr style=\"text-align: right;\">\n",
       "      <th>month</th>\n",
       "      <th>1</th>\n",
       "      <th>2</th>\n",
       "      <th>3</th>\n",
       "      <th>All</th>\n",
       "    </tr>\n",
       "    <tr>\n",
       "      <th>success</th>\n",
       "      <th></th>\n",
       "      <th></th>\n",
       "      <th></th>\n",
       "      <th></th>\n",
       "    </tr>\n",
       "  </thead>\n",
       "  <tbody>\n",
       "    <tr>\n",
       "      <td>0</td>\n",
       "      <td>9.9</td>\n",
       "      <td>12.5</td>\n",
       "      <td>4.4</td>\n",
       "      <td>26.9</td>\n",
       "    </tr>\n",
       "    <tr>\n",
       "      <td>1</td>\n",
       "      <td>35.3</td>\n",
       "      <td>24.5</td>\n",
       "      <td>13.3</td>\n",
       "      <td>73.1</td>\n",
       "    </tr>\n",
       "    <tr>\n",
       "      <td>All</td>\n",
       "      <td>45.3</td>\n",
       "      <td>37.0</td>\n",
       "      <td>17.7</td>\n",
       "      <td>100.0</td>\n",
       "    </tr>\n",
       "  </tbody>\n",
       "</table>\n",
       "</div>"
      ],
      "text/plain": [
       "month       1     2     3    All\n",
       "success                         \n",
       "0         9.9  12.5   4.4   26.9\n",
       "1        35.3  24.5  13.3   73.1\n",
       "All      45.3  37.0  17.7  100.0"
      ]
     },
     "metadata": {},
     "output_type": "display_data"
    },
    {
     "data": {
      "text/html": [
       "<div>\n",
       "<style scoped>\n",
       "    .dataframe tbody tr th:only-of-type {\n",
       "        vertical-align: middle;\n",
       "    }\n",
       "\n",
       "    .dataframe tbody tr th {\n",
       "        vertical-align: top;\n",
       "    }\n",
       "\n",
       "    .dataframe thead th {\n",
       "        text-align: right;\n",
       "    }\n",
       "</style>\n",
       "<table border=\"1\" class=\"dataframe\">\n",
       "  <thead>\n",
       "    <tr style=\"text-align: right;\">\n",
       "      <th>department</th>\n",
       "      <th>finishing</th>\n",
       "      <th>sweing</th>\n",
       "      <th>All</th>\n",
       "    </tr>\n",
       "    <tr>\n",
       "      <th>success</th>\n",
       "      <th></th>\n",
       "      <th></th>\n",
       "      <th></th>\n",
       "    </tr>\n",
       "  </thead>\n",
       "  <tbody>\n",
       "    <tr>\n",
       "      <td>0</td>\n",
       "      <td>17.0</td>\n",
       "      <td>9.9</td>\n",
       "      <td>26.9</td>\n",
       "    </tr>\n",
       "    <tr>\n",
       "      <td>1</td>\n",
       "      <td>25.2</td>\n",
       "      <td>47.9</td>\n",
       "      <td>73.1</td>\n",
       "    </tr>\n",
       "    <tr>\n",
       "      <td>All</td>\n",
       "      <td>42.3</td>\n",
       "      <td>57.7</td>\n",
       "      <td>100.0</td>\n",
       "    </tr>\n",
       "  </tbody>\n",
       "</table>\n",
       "</div>"
      ],
      "text/plain": [
       "department  finishing  sweing    All\n",
       "success                             \n",
       "0                17.0     9.9   26.9\n",
       "1                25.2    47.9   73.1\n",
       "All              42.3    57.7  100.0"
      ]
     },
     "metadata": {},
     "output_type": "display_data"
    },
    {
     "data": {
      "text/html": [
       "<div>\n",
       "<style scoped>\n",
       "    .dataframe tbody tr th:only-of-type {\n",
       "        vertical-align: middle;\n",
       "    }\n",
       "\n",
       "    .dataframe tbody tr th {\n",
       "        vertical-align: top;\n",
       "    }\n",
       "\n",
       "    .dataframe thead th {\n",
       "        text-align: right;\n",
       "    }\n",
       "</style>\n",
       "<table border=\"1\" class=\"dataframe\">\n",
       "  <thead>\n",
       "    <tr style=\"text-align: right;\">\n",
       "      <th>day</th>\n",
       "      <th>Monday</th>\n",
       "      <th>Saturday</th>\n",
       "      <th>Sunday</th>\n",
       "      <th>Thursday</th>\n",
       "      <th>Tuesday</th>\n",
       "      <th>Wednesday</th>\n",
       "      <th>All</th>\n",
       "    </tr>\n",
       "    <tr>\n",
       "      <th>success</th>\n",
       "      <th></th>\n",
       "      <th></th>\n",
       "      <th></th>\n",
       "      <th></th>\n",
       "      <th></th>\n",
       "      <th></th>\n",
       "      <th></th>\n",
       "    </tr>\n",
       "  </thead>\n",
       "  <tbody>\n",
       "    <tr>\n",
       "      <td>0</td>\n",
       "      <td>3.8</td>\n",
       "      <td>3.8</td>\n",
       "      <td>5.3</td>\n",
       "      <td>5.4</td>\n",
       "      <td>4.1</td>\n",
       "      <td>4.3</td>\n",
       "      <td>26.9</td>\n",
       "    </tr>\n",
       "    <tr>\n",
       "      <td>1</td>\n",
       "      <td>12.8</td>\n",
       "      <td>11.8</td>\n",
       "      <td>11.6</td>\n",
       "      <td>11.2</td>\n",
       "      <td>12.7</td>\n",
       "      <td>13.0</td>\n",
       "      <td>73.1</td>\n",
       "    </tr>\n",
       "    <tr>\n",
       "      <td>All</td>\n",
       "      <td>16.6</td>\n",
       "      <td>15.6</td>\n",
       "      <td>17.0</td>\n",
       "      <td>16.6</td>\n",
       "      <td>16.8</td>\n",
       "      <td>17.4</td>\n",
       "      <td>100.0</td>\n",
       "    </tr>\n",
       "  </tbody>\n",
       "</table>\n",
       "</div>"
      ],
      "text/plain": [
       "day      Monday  Saturday  Sunday  Thursday  Tuesday  Wednesday    All\n",
       "success                                                               \n",
       "0           3.8       3.8     5.3       5.4      4.1        4.3   26.9\n",
       "1          12.8      11.8    11.6      11.2     12.7       13.0   73.1\n",
       "All        16.6      15.6    17.0      16.6     16.8       17.4  100.0"
      ]
     },
     "metadata": {},
     "output_type": "display_data"
    },
    {
     "data": {
      "text/html": [
       "<div>\n",
       "<style scoped>\n",
       "    .dataframe tbody tr th:only-of-type {\n",
       "        vertical-align: middle;\n",
       "    }\n",
       "\n",
       "    .dataframe tbody tr th {\n",
       "        vertical-align: top;\n",
       "    }\n",
       "\n",
       "    .dataframe thead th {\n",
       "        text-align: right;\n",
       "    }\n",
       "</style>\n",
       "<table border=\"1\" class=\"dataframe\">\n",
       "  <thead>\n",
       "    <tr style=\"text-align: right;\">\n",
       "      <th>team</th>\n",
       "      <th>1</th>\n",
       "      <th>10</th>\n",
       "      <th>11</th>\n",
       "      <th>12</th>\n",
       "      <th>2</th>\n",
       "      <th>3</th>\n",
       "      <th>4</th>\n",
       "      <th>5</th>\n",
       "      <th>6</th>\n",
       "      <th>7</th>\n",
       "      <th>8</th>\n",
       "      <th>9</th>\n",
       "      <th>All</th>\n",
       "    </tr>\n",
       "    <tr>\n",
       "      <th>success</th>\n",
       "      <th></th>\n",
       "      <th></th>\n",
       "      <th></th>\n",
       "      <th></th>\n",
       "      <th></th>\n",
       "      <th></th>\n",
       "      <th></th>\n",
       "      <th></th>\n",
       "      <th></th>\n",
       "      <th></th>\n",
       "      <th></th>\n",
       "      <th></th>\n",
       "      <th></th>\n",
       "    </tr>\n",
       "  </thead>\n",
       "  <tbody>\n",
       "    <tr>\n",
       "      <td>0</td>\n",
       "      <td>1.3</td>\n",
       "      <td>2.5</td>\n",
       "      <td>2.1</td>\n",
       "      <td>1.3</td>\n",
       "      <td>2.3</td>\n",
       "      <td>0.9</td>\n",
       "      <td>1.6</td>\n",
       "      <td>2.1</td>\n",
       "      <td>2.6</td>\n",
       "      <td>3.3</td>\n",
       "      <td>4.1</td>\n",
       "      <td>2.8</td>\n",
       "      <td>26.9</td>\n",
       "    </tr>\n",
       "    <tr>\n",
       "      <td>1</td>\n",
       "      <td>7.5</td>\n",
       "      <td>5.8</td>\n",
       "      <td>5.3</td>\n",
       "      <td>6.9</td>\n",
       "      <td>6.9</td>\n",
       "      <td>7.0</td>\n",
       "      <td>7.2</td>\n",
       "      <td>5.7</td>\n",
       "      <td>5.3</td>\n",
       "      <td>4.7</td>\n",
       "      <td>5.0</td>\n",
       "      <td>5.8</td>\n",
       "      <td>73.1</td>\n",
       "    </tr>\n",
       "    <tr>\n",
       "      <td>All</td>\n",
       "      <td>8.8</td>\n",
       "      <td>8.4</td>\n",
       "      <td>7.4</td>\n",
       "      <td>8.3</td>\n",
       "      <td>9.1</td>\n",
       "      <td>7.9</td>\n",
       "      <td>8.8</td>\n",
       "      <td>7.8</td>\n",
       "      <td>7.9</td>\n",
       "      <td>8.0</td>\n",
       "      <td>9.1</td>\n",
       "      <td>8.7</td>\n",
       "      <td>100.0</td>\n",
       "    </tr>\n",
       "  </tbody>\n",
       "</table>\n",
       "</div>"
      ],
      "text/plain": [
       "team       1   10   11   12    2    3    4    5    6    7    8    9    All\n",
       "success                                                                   \n",
       "0        1.3  2.5  2.1  1.3  2.3  0.9  1.6  2.1  2.6  3.3  4.1  2.8   26.9\n",
       "1        7.5  5.8  5.3  6.9  6.9  7.0  7.2  5.7  5.3  4.7  5.0  5.8   73.1\n",
       "All      8.8  8.4  7.4  8.3  9.1  7.9  8.8  7.8  7.9  8.0  9.1  8.7  100.0"
      ]
     },
     "metadata": {},
     "output_type": "display_data"
    },
    {
     "data": {
      "text/html": [
       "<div>\n",
       "<style scoped>\n",
       "    .dataframe tbody tr th:only-of-type {\n",
       "        vertical-align: middle;\n",
       "    }\n",
       "\n",
       "    .dataframe tbody tr th {\n",
       "        vertical-align: top;\n",
       "    }\n",
       "\n",
       "    .dataframe thead th {\n",
       "        text-align: right;\n",
       "    }\n",
       "</style>\n",
       "<table border=\"1\" class=\"dataframe\">\n",
       "  <thead>\n",
       "    <tr style=\"text-align: right;\">\n",
       "      <th>is_incentive</th>\n",
       "      <th>0</th>\n",
       "      <th>1</th>\n",
       "      <th>2</th>\n",
       "      <th>All</th>\n",
       "    </tr>\n",
       "    <tr>\n",
       "      <th>success</th>\n",
       "      <th></th>\n",
       "      <th></th>\n",
       "      <th></th>\n",
       "      <th></th>\n",
       "    </tr>\n",
       "  </thead>\n",
       "  <tbody>\n",
       "    <tr>\n",
       "      <td>0</td>\n",
       "      <td>22.5</td>\n",
       "      <td>4.3</td>\n",
       "      <td>0.2</td>\n",
       "      <td>26.9</td>\n",
       "    </tr>\n",
       "    <tr>\n",
       "      <td>1</td>\n",
       "      <td>28.0</td>\n",
       "      <td>44.9</td>\n",
       "      <td>0.3</td>\n",
       "      <td>73.1</td>\n",
       "    </tr>\n",
       "    <tr>\n",
       "      <td>All</td>\n",
       "      <td>50.5</td>\n",
       "      <td>49.1</td>\n",
       "      <td>0.4</td>\n",
       "      <td>100.0</td>\n",
       "    </tr>\n",
       "  </tbody>\n",
       "</table>\n",
       "</div>"
      ],
      "text/plain": [
       "is_incentive     0     1    2    All\n",
       "success                             \n",
       "0             22.5   4.3  0.2   26.9\n",
       "1             28.0  44.9  0.3   73.1\n",
       "All           50.5  49.1  0.4  100.0"
      ]
     },
     "metadata": {},
     "output_type": "display_data"
    },
    {
     "data": {
      "text/html": [
       "<div>\n",
       "<style scoped>\n",
       "    .dataframe tbody tr th:only-of-type {\n",
       "        vertical-align: middle;\n",
       "    }\n",
       "\n",
       "    .dataframe tbody tr th {\n",
       "        vertical-align: top;\n",
       "    }\n",
       "\n",
       "    .dataframe thead th {\n",
       "        text-align: right;\n",
       "    }\n",
       "</style>\n",
       "<table border=\"1\" class=\"dataframe\">\n",
       "  <thead>\n",
       "    <tr style=\"text-align: right;\">\n",
       "      <th>is_idle_time</th>\n",
       "      <th>0</th>\n",
       "      <th>1</th>\n",
       "      <th>All</th>\n",
       "    </tr>\n",
       "    <tr>\n",
       "      <th>success</th>\n",
       "      <th></th>\n",
       "      <th></th>\n",
       "      <th></th>\n",
       "    </tr>\n",
       "  </thead>\n",
       "  <tbody>\n",
       "    <tr>\n",
       "      <td>0</td>\n",
       "      <td>25.7</td>\n",
       "      <td>1.2</td>\n",
       "      <td>26.9</td>\n",
       "    </tr>\n",
       "    <tr>\n",
       "      <td>1</td>\n",
       "      <td>72.8</td>\n",
       "      <td>0.3</td>\n",
       "      <td>73.1</td>\n",
       "    </tr>\n",
       "    <tr>\n",
       "      <td>All</td>\n",
       "      <td>98.5</td>\n",
       "      <td>1.5</td>\n",
       "      <td>100.0</td>\n",
       "    </tr>\n",
       "  </tbody>\n",
       "</table>\n",
       "</div>"
      ],
      "text/plain": [
       "is_idle_time     0    1    All\n",
       "success                       \n",
       "0             25.7  1.2   26.9\n",
       "1             72.8  0.3   73.1\n",
       "All           98.5  1.5  100.0"
      ]
     },
     "metadata": {},
     "output_type": "display_data"
    },
    {
     "data": {
      "text/html": [
       "<div>\n",
       "<style scoped>\n",
       "    .dataframe tbody tr th:only-of-type {\n",
       "        vertical-align: middle;\n",
       "    }\n",
       "\n",
       "    .dataframe tbody tr th {\n",
       "        vertical-align: top;\n",
       "    }\n",
       "\n",
       "    .dataframe thead th {\n",
       "        text-align: right;\n",
       "    }\n",
       "</style>\n",
       "<table border=\"1\" class=\"dataframe\">\n",
       "  <thead>\n",
       "    <tr style=\"text-align: right;\">\n",
       "      <th>is_style_change</th>\n",
       "      <th>0</th>\n",
       "      <th>1</th>\n",
       "      <th>All</th>\n",
       "    </tr>\n",
       "    <tr>\n",
       "      <th>success</th>\n",
       "      <th></th>\n",
       "      <th></th>\n",
       "      <th></th>\n",
       "    </tr>\n",
       "  </thead>\n",
       "  <tbody>\n",
       "    <tr>\n",
       "      <td>0</td>\n",
       "      <td>23.5</td>\n",
       "      <td>3.4</td>\n",
       "      <td>26.9</td>\n",
       "    </tr>\n",
       "    <tr>\n",
       "      <td>1</td>\n",
       "      <td>64.2</td>\n",
       "      <td>8.9</td>\n",
       "      <td>73.1</td>\n",
       "    </tr>\n",
       "    <tr>\n",
       "      <td>All</td>\n",
       "      <td>87.7</td>\n",
       "      <td>12.3</td>\n",
       "      <td>100.0</td>\n",
       "    </tr>\n",
       "  </tbody>\n",
       "</table>\n",
       "</div>"
      ],
      "text/plain": [
       "is_style_change     0     1    All\n",
       "success                           \n",
       "0                23.5   3.4   26.9\n",
       "1                64.2   8.9   73.1\n",
       "All              87.7  12.3  100.0"
      ]
     },
     "metadata": {},
     "output_type": "display_data"
    }
   ],
   "source": [
    "for var in levCols:\n",
    "    display(((pd.crosstab(df[\"success\"], df[var], margins=True)/df.shape[0])*100).round(1))"
   ]
  },
  {
   "cell_type": "code",
   "execution_count": 6,
   "metadata": {},
   "outputs": [],
   "source": [
    "# Lets calcualte some stats to see whichc varabiles are most valuable.\n",
    "from sklearn import preprocessing\n",
    "le = preprocessing.LabelEncoder()\n",
    "df2 = df.copy()\n",
    "for col in levCols:\n",
    "    df2[col] = le.fit_transform(df[col])\n",
    "numCols.remove(\"success\")"
   ]
  },
  {
   "cell_type": "code",
   "execution_count": 7,
   "metadata": {
    "scrolled": true
   },
   "outputs": [
    {
     "name": "stdout",
     "output_type": "stream",
     "text": [
      "\n",
      " month\n",
      "Pearson (-0.05764356044352116, 0.04616207439921663)\n",
      "Mutual info [0.01927889]\n",
      "Chi2 (array([3.04161998]), array([0.08115489]))\n",
      "Anova (array([3.984045], dtype=float32), array([0.04615975], dtype=float32))\n",
      "\n",
      " department\n",
      "Pearson (0.2588863753228165, 8.775348222056215e-20)\n",
      "Mutual info [0.01963103]\n",
      "Chi2 (array([33.9132106]), array([5.76260863e-09]))\n",
      "Anova (array([85.84513], dtype=float32), array([8.774773e-20], dtype=float32))\n",
      "\n",
      " day\n",
      "Pearson (-0.009713387050659661, 0.7370838757260759)\n",
      "Mutual info [0.00737069]\n",
      "Chi2 (array([0.13087163]), array([0.71753001]))\n",
      "Anova (array([0.1126998], dtype=float32), array([0.7371501], dtype=float32))\n",
      "\n",
      " team\n",
      "Pearson (-0.14742253143349415, 3.004471631459274e-07)\n",
      "Mutual info [0.02188792]\n",
      "Chi2 (array([57.09675386]), array([4.14889915e-14]))\n",
      "Anova (array([26.548443], dtype=float32), array([3.0044117e-07], dtype=float32))\n",
      "\n",
      " is_incentive\n",
      "Pearson (0.3923872130839211, 2.4053065712321445e-45)\n",
      "Mutual info [0.07920106]\n",
      "Chi2 (array([95.30859648]), array([1.62904208e-22]))\n",
      "Anova (array([217.47559], dtype=float32), array([3.e-45], dtype=float32))\n",
      "\n",
      " is_idle_time\n",
      "Pearson (-0.14176358268389444, 8.459458402523457e-07)\n",
      "Mutual info [0]\n",
      "Chi2 (array([23.69426087]), array([1.12918771e-06]))\n",
      "Anova (array([24.50835], dtype=float32), array([8.459473e-07], dtype=float32))\n",
      "\n",
      " is_style_change\n",
      "Pearson (-0.008358187468367168, 0.7726755945158713)\n",
      "Mutual info [0]\n",
      "Chi2 (array([0.07335226]), array([0.78651699]))\n",
      "Anova (array([0.08348987], dtype=float32), array([0.7726727], dtype=float32))\n"
     ]
    },
    {
     "data": {
      "text/plain": [
       "[(array([0.07920106]), 'is_incentive'),\n",
       " (array([0.02188792]), 'team'),\n",
       " (array([0.01963103]), 'department'),\n",
       " (array([0.01927889]), 'month'),\n",
       " (array([0.00737069]), 'day'),\n",
       " (array([0]), 'is_style_change'),\n",
       " (array([0]), 'is_idle_time')]"
      ]
     },
     "execution_count": 7,
     "metadata": {},
     "output_type": "execute_result"
    }
   ],
   "source": [
    "from scipy import stats\n",
    "from sklearn import feature_selection\n",
    "\n",
    "import warnings\n",
    "warnings.simplefilter(action='ignore', category=FutureWarning)\n",
    "\n",
    "minfos=[]\n",
    "for var in levCols:\n",
    "    print(\"\\n\", var)\n",
    "    print(\"Pearson\", stats.pearsonr(df2[\"success\"], df2[var]))\n",
    "    print(\"Mutual info\", feature_selection.mutual_info_classif(df2[var].values.reshape(-1,1),df2[\"success\"].values,random_state = 0))\n",
    "    minfos.append(feature_selection.mutual_info_classif(df2[var].values.reshape(-1,1),df2[\"success\"].values,random_state = 0))\n",
    "    print(\"Chi2\", feature_selection.chi2(df2[var].values.reshape(-1,1),df2[\"success\"].values))\n",
    "    print(\"Anova\", feature_selection.f_classif(df2[var].values.reshape(-1,1),df2[\"success\"].values))\n",
    "\n",
    "imp = list(zip(minfos, levCols))\n",
    "\n",
    "imp.sort(reverse=True)\n",
    "imp"
   ]
  },
  {
   "cell_type": "markdown",
   "metadata": {},
   "source": [
    "The most important value seems to be is_incentive, which mutual information has the highest value. The least important are: is_style_change, is_idle_time."
   ]
  },
  {
   "cell_type": "code",
   "execution_count": 9,
   "metadata": {},
   "outputs": [
    {
     "data": {
      "text/html": [
       "<div>\n",
       "<style scoped>\n",
       "    .dataframe tbody tr th:only-of-type {\n",
       "        vertical-align: middle;\n",
       "    }\n",
       "\n",
       "    .dataframe tbody tr th {\n",
       "        vertical-align: top;\n",
       "    }\n",
       "\n",
       "    .dataframe thead th {\n",
       "        text-align: right;\n",
       "    }\n",
       "</style>\n",
       "<table border=\"1\" class=\"dataframe\">\n",
       "  <thead>\n",
       "    <tr style=\"text-align: right;\">\n",
       "      <th></th>\n",
       "      <th>date</th>\n",
       "      <th>quarter</th>\n",
       "      <th>department</th>\n",
       "      <th>day</th>\n",
       "      <th>team</th>\n",
       "      <th>targeted_productivity</th>\n",
       "      <th>smv</th>\n",
       "      <th>wip</th>\n",
       "      <th>over_time</th>\n",
       "      <th>incentive</th>\n",
       "      <th>idle_time</th>\n",
       "      <th>idle_men</th>\n",
       "      <th>no_of_style_change</th>\n",
       "      <th>no_of_workers</th>\n",
       "      <th>actual_productivity</th>\n",
       "      <th>prod</th>\n",
       "      <th>success</th>\n",
       "      <th>is_incentive</th>\n",
       "      <th>is_idle_time</th>\n",
       "      <th>month</th>\n",
       "      <th>is_style_change</th>\n",
       "    </tr>\n",
       "  </thead>\n",
       "  <tbody>\n",
       "    <tr>\n",
       "      <td>0</td>\n",
       "      <td>2015-01-01</td>\n",
       "      <td>Quarter1</td>\n",
       "      <td>1</td>\n",
       "      <td>3</td>\n",
       "      <td>10</td>\n",
       "      <td>0.80</td>\n",
       "      <td>26.16</td>\n",
       "      <td>1108.0</td>\n",
       "      <td>7080</td>\n",
       "      <td>98</td>\n",
       "      <td>0.0</td>\n",
       "      <td>0</td>\n",
       "      <td>0</td>\n",
       "      <td>59.0</td>\n",
       "      <td>0.940725</td>\n",
       "      <td>1.175907</td>\n",
       "      <td>1</td>\n",
       "      <td>1</td>\n",
       "      <td>0</td>\n",
       "      <td>0</td>\n",
       "      <td>0</td>\n",
       "    </tr>\n",
       "    <tr>\n",
       "      <td>1</td>\n",
       "      <td>2015-01-01</td>\n",
       "      <td>Quarter1</td>\n",
       "      <td>0</td>\n",
       "      <td>3</td>\n",
       "      <td>0</td>\n",
       "      <td>0.75</td>\n",
       "      <td>3.94</td>\n",
       "      <td>NaN</td>\n",
       "      <td>960</td>\n",
       "      <td>0</td>\n",
       "      <td>0.0</td>\n",
       "      <td>0</td>\n",
       "      <td>0</td>\n",
       "      <td>8.0</td>\n",
       "      <td>0.886500</td>\n",
       "      <td>1.182000</td>\n",
       "      <td>1</td>\n",
       "      <td>0</td>\n",
       "      <td>0</td>\n",
       "      <td>0</td>\n",
       "      <td>0</td>\n",
       "    </tr>\n",
       "    <tr>\n",
       "      <td>2</td>\n",
       "      <td>2015-01-01</td>\n",
       "      <td>Quarter1</td>\n",
       "      <td>1</td>\n",
       "      <td>3</td>\n",
       "      <td>2</td>\n",
       "      <td>0.80</td>\n",
       "      <td>11.41</td>\n",
       "      <td>968.0</td>\n",
       "      <td>3660</td>\n",
       "      <td>50</td>\n",
       "      <td>0.0</td>\n",
       "      <td>0</td>\n",
       "      <td>0</td>\n",
       "      <td>30.5</td>\n",
       "      <td>0.800570</td>\n",
       "      <td>1.000713</td>\n",
       "      <td>1</td>\n",
       "      <td>1</td>\n",
       "      <td>0</td>\n",
       "      <td>0</td>\n",
       "      <td>0</td>\n",
       "    </tr>\n",
       "    <tr>\n",
       "      <td>3</td>\n",
       "      <td>2015-01-01</td>\n",
       "      <td>Quarter1</td>\n",
       "      <td>1</td>\n",
       "      <td>3</td>\n",
       "      <td>3</td>\n",
       "      <td>0.80</td>\n",
       "      <td>11.41</td>\n",
       "      <td>968.0</td>\n",
       "      <td>3660</td>\n",
       "      <td>50</td>\n",
       "      <td>0.0</td>\n",
       "      <td>0</td>\n",
       "      <td>0</td>\n",
       "      <td>30.5</td>\n",
       "      <td>0.800570</td>\n",
       "      <td>1.000713</td>\n",
       "      <td>1</td>\n",
       "      <td>1</td>\n",
       "      <td>0</td>\n",
       "      <td>0</td>\n",
       "      <td>0</td>\n",
       "    </tr>\n",
       "    <tr>\n",
       "      <td>4</td>\n",
       "      <td>2015-01-01</td>\n",
       "      <td>Quarter1</td>\n",
       "      <td>1</td>\n",
       "      <td>3</td>\n",
       "      <td>8</td>\n",
       "      <td>0.80</td>\n",
       "      <td>25.90</td>\n",
       "      <td>1170.0</td>\n",
       "      <td>1920</td>\n",
       "      <td>50</td>\n",
       "      <td>0.0</td>\n",
       "      <td>0</td>\n",
       "      <td>0</td>\n",
       "      <td>56.0</td>\n",
       "      <td>0.800382</td>\n",
       "      <td>1.000477</td>\n",
       "      <td>1</td>\n",
       "      <td>1</td>\n",
       "      <td>0</td>\n",
       "      <td>0</td>\n",
       "      <td>0</td>\n",
       "    </tr>\n",
       "  </tbody>\n",
       "</table>\n",
       "</div>"
      ],
      "text/plain": [
       "        date   quarter  department  day  team  targeted_productivity    smv  \\\n",
       "0 2015-01-01  Quarter1           1    3    10                   0.80  26.16   \n",
       "1 2015-01-01  Quarter1           0    3     0                   0.75   3.94   \n",
       "2 2015-01-01  Quarter1           1    3     2                   0.80  11.41   \n",
       "3 2015-01-01  Quarter1           1    3     3                   0.80  11.41   \n",
       "4 2015-01-01  Quarter1           1    3     8                   0.80  25.90   \n",
       "\n",
       "      wip  over_time  incentive  idle_time  idle_men no_of_style_change  \\\n",
       "0  1108.0       7080         98        0.0         0                  0   \n",
       "1     NaN        960          0        0.0         0                  0   \n",
       "2   968.0       3660         50        0.0         0                  0   \n",
       "3   968.0       3660         50        0.0         0                  0   \n",
       "4  1170.0       1920         50        0.0         0                  0   \n",
       "\n",
       "   no_of_workers  actual_productivity      prod  success  is_incentive  \\\n",
       "0           59.0             0.940725  1.175907        1             1   \n",
       "1            8.0             0.886500  1.182000        1             0   \n",
       "2           30.5             0.800570  1.000713        1             1   \n",
       "3           30.5             0.800570  1.000713        1             1   \n",
       "4           56.0             0.800382  1.000477        1             1   \n",
       "\n",
       "   is_idle_time  month  is_style_change  \n",
       "0             0      0                0  \n",
       "1             0      0                0  \n",
       "2             0      0                0  \n",
       "3             0      0                0  \n",
       "4             0      0                0  "
      ]
     },
     "execution_count": 9,
     "metadata": {},
     "output_type": "execute_result"
    }
   ],
   "source": [
    "df2.head()"
   ]
  },
  {
   "cell_type": "markdown",
   "metadata": {},
   "source": [
    "Below there are values of mutual information for continuous variables. The hishest one is for smv."
   ]
  },
  {
   "cell_type": "code",
   "execution_count": 10,
   "metadata": {},
   "outputs": [
    {
     "name": "stdout",
     "output_type": "stream",
     "text": [
      "smv  Mutual info [0.134211]\n",
      "over_time  Mutual info [0.03991998]\n",
      "no_of_workers  Mutual info [0.05295754]\n"
     ]
    },
    {
     "data": {
      "text/plain": [
       "[(array([0.134211]), 'smv'),\n",
       " (array([0.05295754]), 'no_of_workers'),\n",
       " (array([0.03991998]), 'over_time')]"
      ]
     },
     "execution_count": 10,
     "metadata": {},
     "output_type": "execute_result"
    }
   ],
   "source": [
    "from scipy import stats\n",
    "from sklearn import feature_selection\n",
    "\n",
    "import warnings\n",
    "warnings.simplefilter(action='ignore', category=FutureWarning)\n",
    "\n",
    "minfos=[]\n",
    "for var in numCols:\n",
    "    print(var, \" Mutual info\", feature_selection.mutual_info_regression(df2[var].astype(float).values.reshape(-1,1),df2[\"success\"].astype(float).values,random_state = 0))\n",
    "    minfos.append(feature_selection.mutual_info_regression(df2[var].astype(float).values.reshape(-1,1),df2[\"success\"].astype(float).values,random_state = 0))\n",
    "# Sort recorded values\n",
    "imp = list(zip(minfos, numCols))\n",
    "imp.sort(reverse=True)\n",
    "imp"
   ]
  },
  {
   "cell_type": "markdown",
   "metadata": {},
   "source": [
    "##### Creating variables\n",
    "Here we get dummies and "
   ]
  },
  {
   "cell_type": "code",
   "execution_count": 10,
   "metadata": {},
   "outputs": [],
   "source": [
    "# KNN\n",
    "# AND now switch to dummies\n",
    "features = [\"success\",\"month\", \"department\", \"day\", \"team\", \"smv\",\"over_time\",\n",
    "            \"is_incentive\", \"is_idle_time\", \"is_style_change\", \"no_of_workers\"]\n",
    "levCols = []\n",
    "numCols = []\n",
    "for col in features:\n",
    "    if df[col].dtype==object:\n",
    "        levCols.append(col)\n",
    "    else:\n",
    "        numCols.append(col)\n",
    "dummLev = pd.get_dummies(df[levCols], drop_first=True)\n",
    "dummLev.shape\n",
    "df_dummy = pd.concat([df[numCols], dummLev], axis=1)\n",
    "numCols.remove(\"success\")\n",
    "df_dummy[numCols] = df_dummy[numCols].apply(lambda x: (x-x.mean())/x.std())\n",
    "features = df_dummy.columns.tolist()\n",
    "features.remove(\"success\")"
   ]
  },
  {
   "cell_type": "code",
   "execution_count": 7,
   "metadata": {},
   "outputs": [],
   "source": [
    "# # duplicate code?????\n",
    "# features = [\"success\",\"month\", \"department\", \"day\", \"team\", \"smv\",\"over_time\",\n",
    "#             \"is_incentive\", \"is_idle_time\", \"is_style_change\", \"no_of_workers\"]\n",
    "# levCols = []\n",
    "# numCols = []\n",
    "# for col in features:\n",
    "#     if df[col].dtype==object:\n",
    "#         levCols.append(col)\n",
    "#     else:\n",
    "#         numCols.append(col)\n",
    "# dummLev = pd.get_dummies(df[levCols], drop_first=True)\n",
    "# dummLev.shape\n",
    "# df3_dummy = pd.concat([df[numCols], dummLev], axis=1)"
   ]
  },
  {
   "cell_type": "code",
   "execution_count": 11,
   "metadata": {},
   "outputs": [
    {
     "data": {
      "text/plain": [
       "['smv',\n",
       " 'over_time',\n",
       " 'no_of_workers',\n",
       " 'month_2',\n",
       " 'month_3',\n",
       " 'department_sweing',\n",
       " 'day_Saturday',\n",
       " 'day_Sunday',\n",
       " 'day_Thursday',\n",
       " 'day_Tuesday',\n",
       " 'day_Wednesday',\n",
       " 'team_10',\n",
       " 'team_11',\n",
       " 'team_12',\n",
       " 'team_2',\n",
       " 'team_3',\n",
       " 'team_4',\n",
       " 'team_5',\n",
       " 'team_6',\n",
       " 'team_7',\n",
       " 'team_8',\n",
       " 'team_9',\n",
       " 'is_incentive_1',\n",
       " 'is_incentive_2',\n",
       " 'is_idle_time_1',\n",
       " 'is_style_change_1']"
      ]
     },
     "execution_count": 11,
     "metadata": {},
     "output_type": "execute_result"
    }
   ],
   "source": [
    "features = df_dummy.columns.tolist()\n",
    "features.remove(\"success\")\n",
    "features\n"
   ]
  },
  {
   "cell_type": "markdown",
   "metadata": {},
   "source": [
    "### 2. Feature selection"
   ]
  },
  {
   "cell_type": "code",
   "execution_count": 13,
   "metadata": {
    "scrolled": false
   },
   "outputs": [
    {
     "name": "stdout",
     "output_type": "stream",
     "text": [
      "\n",
      " -------------- \n",
      "\n"
     ]
    },
    {
     "data": {
      "text/plain": [
       "[(0.727664596273292, 'is_incentive_1'),\n",
       " (0.6744081632653061, 'no_of_workers'),\n",
       " (0.6441987577639751, 'department_sweing'),\n",
       " (0.6408731144631765, 'over_time'),\n",
       " (0.6348127772848269, 'smv'),\n",
       " (0.5654906832298137, 'month_2'),\n",
       " (0.5418012422360249, 'team_8'),\n",
       " (0.5309192546583852, 'team_3'),\n",
       " (0.530111801242236, 'team_7'),\n",
       " (0.524360248447205, 'day_Thursday'),\n",
       " (0.5225838509316769, 'team_12'),\n",
       " (0.5199503105590062, 'day_Sunday'),\n",
       " (0.5196397515527951, 'team_4'),\n",
       " (0.5194534161490683, 'is_idle_time_1'),\n",
       " (0.5127950310559006, 'team_9'),\n",
       " (0.5121366459627329, 'team_6'),\n",
       " (0.5107701863354037, 'day_Tuesday'),\n",
       " (0.5091428571428571, 'day_Saturday'),\n",
       " (0.5085590062111801, 'month_3'),\n",
       " (0.5083975155279503, 'day_Wednesday'),\n",
       " (0.506583850931677, 'team_10'),\n",
       " (0.5049316770186335, 'team_2'),\n",
       " (0.5030931677018634, 'is_style_change_1'),\n",
       " (0.5028198757763975, 'team_11'),\n",
       " (0.5013913043478261, 'is_incentive_2'),\n",
       " (0.5000372670807453, 'team_5')]"
      ]
     },
     "execution_count": 13,
     "metadata": {},
     "output_type": "execute_result"
    }
   ],
   "source": [
    "# Now lets try logistic regression\n",
    "from sklearn import metrics\n",
    "import statsmodels.api as sm\n",
    "    \n",
    "aucs=[]\n",
    "for var in features:\n",
    "    mod = sm.GLM.from_formula(formula=\"success ~ \" + var, data=df3_dummy, family=sm.families.Binomial())\n",
    "    res = mod.fit()\n",
    "    probs = res.predict()\n",
    "    aucs.append(metrics.roc_auc_score(df3_dummy[\"success\"].values, probs))\n",
    "#     print(var, metrics.roc_auc_score(df3_dummy[\"success\"].values, probs))\n",
    "\n",
    "print(\"\\n\", \"--------------\", \"\\n\")\n",
    "imp = list(zip(aucs, features))\n",
    "imp.sort(reverse=True)\n",
    "imp"
   ]
  },
  {
   "cell_type": "code",
   "execution_count": 14,
   "metadata": {},
   "outputs": [
    {
     "data": {
      "text/plain": [
       "['is_incentive_1',\n",
       " 'no_of_workers',\n",
       " 'department_sweing',\n",
       " 'over_time',\n",
       " 'smv',\n",
       " 'month_2',\n",
       " 'team_8',\n",
       " 'team_3',\n",
       " 'team_7',\n",
       " 'day_Thursday',\n",
       " 'team_12',\n",
       " 'day_Sunday',\n",
       " 'team_4',\n",
       " 'is_idle_time_1',\n",
       " 'team_9',\n",
       " 'team_6',\n",
       " 'day_Tuesday']"
      ]
     },
     "execution_count": 14,
     "metadata": {},
     "output_type": "execute_result"
    }
   ],
   "source": [
    "chosen_vars = []\n",
    "for auc,var in imp:\n",
    "    if auc>= 0.51:\n",
    "        chosen_vars.append(var)\n",
    "        chosen_vars\n",
    "chosen_vars"
   ]
  },
  {
   "cell_type": "code",
   "execution_count": 8,
   "metadata": {},
   "outputs": [],
   "source": [
    "# # KNN\n",
    "# # poszło na gore \n",
    "# features = [\"success\",\"month\", \"department\", \"day\", \"team\", \"smv\",\"over_time\",\n",
    "#             \"is_incentive\", \"is_idle_time\", \"is_style_change\", \"no_of_workers\"]\n",
    "# levCols = []\n",
    "# numCols = []\n",
    "# for col in features:\n",
    "#     if df[col].dtype==object:\n",
    "#         levCols.append(col)\n",
    "#     else:\n",
    "#         numCols.append(col)\n",
    "# dummLev = pd.get_dummies(df[levCols], drop_first=True)\n",
    "# dummLev.shape\n",
    "# df_dummy = pd.concat([df[numCols], dummLev], axis=1)\n",
    "# numCols.remove(\"success\")\n",
    "# df_dummy[numCols] = df_dummy[numCols].apply(lambda x: (x-x.mean())/x.std())\n",
    "# features = df_dummy.columns.tolist()\n",
    "# features.remove(\"success\")"
   ]
  },
  {
   "cell_type": "code",
   "execution_count": 16,
   "metadata": {},
   "outputs": [
    {
     "data": {
      "text/plain": [
       "success                int64\n",
       "smv                  float64\n",
       "over_time            float64\n",
       "no_of_workers        float64\n",
       "month_2                uint8\n",
       "month_3                uint8\n",
       "department_sweing      uint8\n",
       "day_Saturday           uint8\n",
       "day_Sunday             uint8\n",
       "day_Thursday           uint8\n",
       "day_Tuesday            uint8\n",
       "day_Wednesday          uint8\n",
       "team_10                uint8\n",
       "team_11                uint8\n",
       "team_12                uint8\n",
       "team_2                 uint8\n",
       "team_3                 uint8\n",
       "team_4                 uint8\n",
       "team_5                 uint8\n",
       "team_6                 uint8\n",
       "team_7                 uint8\n",
       "team_8                 uint8\n",
       "team_9                 uint8\n",
       "is_incentive_1         uint8\n",
       "is_incentive_2         uint8\n",
       "is_idle_time_1         uint8\n",
       "is_style_change_1      uint8\n",
       "dtype: object"
      ]
     },
     "execution_count": 16,
     "metadata": {},
     "output_type": "execute_result"
    }
   ],
   "source": [
    "df_dummy.dtypes"
   ]
  },
  {
   "cell_type": "code",
   "execution_count": 18,
   "metadata": {},
   "outputs": [],
   "source": [
    "from sklearn.model_selection import KFold\n",
    "from sklearn import metrics\n",
    "from sklearn import neighbors\n",
    "df_dummy[\"success\"] = df_dummy[\"success\"].astype(int)\n",
    "def runKNN(features=features):\n",
    "    n_neighbors = 30\n",
    "    kf = KFold(n_splits=5, random_state=0)\n",
    "    probs = []\n",
    "    aucs = []\n",
    "    clf = neighbors.KNeighborsClassifier(n_neighbors, n_jobs=-1, p=1)\n",
    "    for train, test in kf.split(df_dummy.index.values):\n",
    "        X = df_dummy.iloc[train][features]\n",
    "        clf.fit(X.values, df_dummy.iloc[X.index.values][\"success\"].values)\n",
    "        prob = clf.predict_proba(df_dummy.iloc[test][features].values)\n",
    "        aucs.append(metrics.roc_auc_score(df_dummy.iloc[test][\"success\"].values, prob[:,1]))\n",
    "    print(np.mean(aucs), aucs)\n",
    "    return np.mean(aucs)"
   ]
  },
  {
   "cell_type": "code",
   "execution_count": 19,
   "metadata": {
    "scrolled": true
   },
   "outputs": [],
   "source": [
    "# Długo sie liczy! + moze nie warto dodawac?\n",
    "# newFeatures = []\n",
    "# tempFeatures = []\n",
    "\n",
    "# for k in range(len(features)):\n",
    "#     aucs=[]\n",
    "#     featToTest = list(set(features) - set(newFeatures))\n",
    "#     for feat in featToTest:\n",
    "#         tempFeatures = newFeatures.copy()\n",
    "#         tempFeatures.append(feat)\n",
    "#         auc = runKNN(tempFeatures)\n",
    "#         aucs.append(auc)\n",
    "#         print(feat, tempFeatures, auc)\n",
    "#     imp = list(zip(aucs, featToTest))\n",
    "#     imp.sort(reverse=True)\n",
    "#     print(imp[0:5])\n",
    "#     print(\"##############\")\n",
    "#     print(\"Selecting:\", imp[0][1])\n",
    "#     newFeatures.append(imp[0][1])\n",
    "#     print(\"Current selection:\", newFeatures)\n",
    "#     print(\"##############\")"
   ]
  },
  {
   "cell_type": "markdown",
   "metadata": {},
   "source": [
    "We decide to remove observations with auc below 0.51 to improve the model. Most of the values that were pointed above were also important in logit model. <br>\n",
    "Next step is to create models: Logit, SVM and KNN."
   ]
  },
  {
   "cell_type": "markdown",
   "metadata": {},
   "source": [
    "### 3. Modeling"
   ]
  },
  {
   "cell_type": "markdown",
   "metadata": {},
   "source": [
    "### 3.1. Logit model"
   ]
  },
  {
   "cell_type": "code",
   "execution_count": 22,
   "metadata": {},
   "outputs": [
    {
     "data": {
      "text/plain": [
       "'success ~is_incentive_1+no_of_workers+department_sweing+over_time+smv+month_2+team_8+team_3+team_7+day_Thursday+team_12+day_Sunday+team_4+is_idle_time_1+team_9+team_6+day_Tuesday'"
      ]
     },
     "execution_count": 22,
     "metadata": {},
     "output_type": "execute_result"
    }
   ],
   "source": [
    "all_columns = \"+\".join(chosen_vars)\n",
    "my_formula = \"success ~\" + all_columns\n",
    "my_formula # formula used in code for logit model"
   ]
  },
  {
   "cell_type": "code",
   "execution_count": 23,
   "metadata": {
    "scrolled": true
   },
   "outputs": [
    {
     "data": {
      "text/html": [
       "<table class=\"simpletable\">\n",
       "<caption>Generalized Linear Model Regression Results</caption>\n",
       "<tr>\n",
       "  <th>Dep. Variable:</th>        <td>success</td>     <th>  No. Observations:  </th>  <td>  1197</td> \n",
       "</tr>\n",
       "<tr>\n",
       "  <th>Model:</th>                  <td>GLM</td>       <th>  Df Residuals:      </th>  <td>  1179</td> \n",
       "</tr>\n",
       "<tr>\n",
       "  <th>Model Family:</th>        <td>Binomial</td>     <th>  Df Model:          </th>  <td>    17</td> \n",
       "</tr>\n",
       "<tr>\n",
       "  <th>Link Function:</th>         <td>logit</td>      <th>  Scale:             </th> <td>  1.0000</td>\n",
       "</tr>\n",
       "<tr>\n",
       "  <th>Method:</th>                <td>IRLS</td>       <th>  Log-Likelihood:    </th> <td> -530.76</td>\n",
       "</tr>\n",
       "<tr>\n",
       "  <th>Date:</th>            <td>Sun, 30 May 2021</td> <th>  Deviance:          </th> <td>  1061.5</td>\n",
       "</tr>\n",
       "<tr>\n",
       "  <th>Time:</th>                <td>23:24:58</td>     <th>  Pearson chi2:      </th> <td>1.36e+03</td>\n",
       "</tr>\n",
       "<tr>\n",
       "  <th>No. Iterations:</th>          <td>6</td>        <th>                     </th>     <td> </td>   \n",
       "</tr>\n",
       "<tr>\n",
       "  <th>Covariance Type:</th>     <td>nonrobust</td>    <th>                     </th>     <td> </td>   \n",
       "</tr>\n",
       "</table>\n",
       "<table class=\"simpletable\">\n",
       "<tr>\n",
       "          <td></td>             <th>coef</th>     <th>std err</th>      <th>z</th>      <th>P>|z|</th>  <th>[0.025</th>    <th>0.975]</th>  \n",
       "</tr>\n",
       "<tr>\n",
       "  <th>Intercept</th>         <td>    0.9801</td> <td>    0.393</td> <td>    2.493</td> <td> 0.013</td> <td>    0.210</td> <td>    1.751</td>\n",
       "</tr>\n",
       "<tr>\n",
       "  <th>is_incentive_1</th>    <td>    2.6607</td> <td>    0.283</td> <td>    9.412</td> <td> 0.000</td> <td>    2.107</td> <td>    3.215</td>\n",
       "</tr>\n",
       "<tr>\n",
       "  <th>no_of_workers</th>     <td>    1.7037</td> <td>    0.406</td> <td>    4.201</td> <td> 0.000</td> <td>    0.909</td> <td>    2.499</td>\n",
       "</tr>\n",
       "<tr>\n",
       "  <th>department_sweing</th> <td>   -0.8160</td> <td>    0.680</td> <td>   -1.199</td> <td> 0.230</td> <td>   -2.150</td> <td>    0.518</td>\n",
       "</tr>\n",
       "<tr>\n",
       "  <th>over_time</th>         <td>   -0.3378</td> <td>    0.146</td> <td>   -2.316</td> <td> 0.021</td> <td>   -0.624</td> <td>   -0.052</td>\n",
       "</tr>\n",
       "<tr>\n",
       "  <th>smv</th>               <td>   -1.3382</td> <td>    0.215</td> <td>   -6.219</td> <td> 0.000</td> <td>   -1.760</td> <td>   -0.916</td>\n",
       "</tr>\n",
       "<tr>\n",
       "  <th>month_2</th>           <td>   -0.4472</td> <td>    0.170</td> <td>   -2.624</td> <td> 0.009</td> <td>   -0.781</td> <td>   -0.113</td>\n",
       "</tr>\n",
       "<tr>\n",
       "  <th>team_8</th>            <td>   -0.6663</td> <td>    0.254</td> <td>   -2.624</td> <td> 0.009</td> <td>   -1.164</td> <td>   -0.169</td>\n",
       "</tr>\n",
       "<tr>\n",
       "  <th>team_3</th>            <td>    0.8311</td> <td>    0.362</td> <td>    2.294</td> <td> 0.022</td> <td>    0.121</td> <td>    1.541</td>\n",
       "</tr>\n",
       "<tr>\n",
       "  <th>team_7</th>            <td>   -0.4591</td> <td>    0.270</td> <td>   -1.699</td> <td> 0.089</td> <td>   -0.989</td> <td>    0.071</td>\n",
       "</tr>\n",
       "<tr>\n",
       "  <th>day_Thursday</th>      <td>   -0.4513</td> <td>    0.214</td> <td>   -2.108</td> <td> 0.035</td> <td>   -0.871</td> <td>   -0.032</td>\n",
       "</tr>\n",
       "<tr>\n",
       "  <th>team_12</th>           <td>    0.4978</td> <td>    0.338</td> <td>    1.475</td> <td> 0.140</td> <td>   -0.164</td> <td>    1.159</td>\n",
       "</tr>\n",
       "<tr>\n",
       "  <th>day_Sunday</th>        <td>   -0.3213</td> <td>    0.209</td> <td>   -1.537</td> <td> 0.124</td> <td>   -0.731</td> <td>    0.088</td>\n",
       "</tr>\n",
       "<tr>\n",
       "  <th>team_4</th>            <td>    0.4584</td> <td>    0.307</td> <td>    1.491</td> <td> 0.136</td> <td>   -0.144</td> <td>    1.061</td>\n",
       "</tr>\n",
       "<tr>\n",
       "  <th>is_idle_time_1</th>    <td>   -2.2754</td> <td>    0.732</td> <td>   -3.108</td> <td> 0.002</td> <td>   -3.710</td> <td>   -0.840</td>\n",
       "</tr>\n",
       "<tr>\n",
       "  <th>team_9</th>            <td>   -0.6059</td> <td>    0.270</td> <td>   -2.246</td> <td> 0.025</td> <td>   -1.135</td> <td>   -0.077</td>\n",
       "</tr>\n",
       "<tr>\n",
       "  <th>team_6</th>            <td>   -0.3196</td> <td>    0.320</td> <td>   -0.999</td> <td> 0.318</td> <td>   -0.946</td> <td>    0.307</td>\n",
       "</tr>\n",
       "<tr>\n",
       "  <th>day_Tuesday</th>       <td>   -0.0613</td> <td>    0.218</td> <td>   -0.281</td> <td> 0.779</td> <td>   -0.489</td> <td>    0.366</td>\n",
       "</tr>\n",
       "</table>"
      ],
      "text/plain": [
       "<class 'statsmodels.iolib.summary.Summary'>\n",
       "\"\"\"\n",
       "                 Generalized Linear Model Regression Results                  \n",
       "==============================================================================\n",
       "Dep. Variable:                success   No. Observations:                 1197\n",
       "Model:                            GLM   Df Residuals:                     1179\n",
       "Model Family:                Binomial   Df Model:                           17\n",
       "Link Function:                  logit   Scale:                          1.0000\n",
       "Method:                          IRLS   Log-Likelihood:                -530.76\n",
       "Date:                Sun, 30 May 2021   Deviance:                       1061.5\n",
       "Time:                        23:24:58   Pearson chi2:                 1.36e+03\n",
       "No. Iterations:                     6                                         \n",
       "Covariance Type:            nonrobust                                         \n",
       "=====================================================================================\n",
       "                        coef    std err          z      P>|z|      [0.025      0.975]\n",
       "-------------------------------------------------------------------------------------\n",
       "Intercept             0.9801      0.393      2.493      0.013       0.210       1.751\n",
       "is_incentive_1        2.6607      0.283      9.412      0.000       2.107       3.215\n",
       "no_of_workers         1.7037      0.406      4.201      0.000       0.909       2.499\n",
       "department_sweing    -0.8160      0.680     -1.199      0.230      -2.150       0.518\n",
       "over_time            -0.3378      0.146     -2.316      0.021      -0.624      -0.052\n",
       "smv                  -1.3382      0.215     -6.219      0.000      -1.760      -0.916\n",
       "month_2              -0.4472      0.170     -2.624      0.009      -0.781      -0.113\n",
       "team_8               -0.6663      0.254     -2.624      0.009      -1.164      -0.169\n",
       "team_3                0.8311      0.362      2.294      0.022       0.121       1.541\n",
       "team_7               -0.4591      0.270     -1.699      0.089      -0.989       0.071\n",
       "day_Thursday         -0.4513      0.214     -2.108      0.035      -0.871      -0.032\n",
       "team_12               0.4978      0.338      1.475      0.140      -0.164       1.159\n",
       "day_Sunday           -0.3213      0.209     -1.537      0.124      -0.731       0.088\n",
       "team_4                0.4584      0.307      1.491      0.136      -0.144       1.061\n",
       "is_idle_time_1       -2.2754      0.732     -3.108      0.002      -3.710      -0.840\n",
       "team_9               -0.6059      0.270     -2.246      0.025      -1.135      -0.077\n",
       "team_6               -0.3196      0.320     -0.999      0.318      -0.946       0.307\n",
       "day_Tuesday          -0.0613      0.218     -0.281      0.779      -0.489       0.366\n",
       "=====================================================================================\n",
       "\"\"\""
      ]
     },
     "execution_count": 23,
     "metadata": {},
     "output_type": "execute_result"
    }
   ],
   "source": [
    "mod = sm.GLM.from_formula( formula= my_formula , data= df_dummy, family=sm.families.Binomial())\n",
    "res = mod.fit()\n",
    "res.summary()"
   ]
  },
  {
   "cell_type": "code",
   "execution_count": 24,
   "metadata": {
    "scrolled": true
   },
   "outputs": [
    {
     "name": "stdout",
     "output_type": "stream",
     "text": [
      "Train AUC: 0.8381575007485776 Valid AUC: 0.7713068181818182\n",
      "Train AUC: 0.8192279760907212 Valid AUC: 0.8431110344232594\n",
      "Train AUC: 0.8142851619246468 Valid AUC: 0.8579996392496393\n",
      "Train AUC: 0.8323395681886249 Valid AUC: 0.7772797378060536\n",
      "Train AUC: 0.8251576438235743 Valid AUC: 0.7983735747820254\n"
     ]
    }
   ],
   "source": [
    "from sklearn.metrics import roc_auc_score\n",
    "kf = KFold(n_splits=5, shuffle=True, random_state=0)\n",
    "\n",
    "for train, test in kf.split(df_dummy.index.values):\n",
    "    mod = sm.GLM.from_formula(formula=my_formula, data=df_dummy.iloc[train], family=sm.families.Binomial())\n",
    "    res = mod.fit()\n",
    "    predsTrain = res.predict()\n",
    "    preds = res.predict(df_dummy.iloc[test])\n",
    "    print(\"Train AUC:\", roc_auc_score(df_dummy.iloc[train].success, predsTrain), \"Valid AUC:\", roc_auc_score(df_dummy.iloc[test].success, preds))\n"
   ]
  },
  {
   "cell_type": "markdown",
   "metadata": {},
   "source": [
    "Valid AUC are quite different so there is a need to ....."
   ]
  },
  {
   "cell_type": "markdown",
   "metadata": {},
   "source": [
    "To choose the best number of KFolds, we run logit model and get a mean value od AUC."
   ]
  },
  {
   "cell_type": "code",
   "execution_count": 41,
   "metadata": {},
   "outputs": [
    {
     "name": "stdout",
     "output_type": "stream",
     "text": [
      "KFolds: 4 Train AUC: 0.8261450015864831 Valid AUC: 0.8128754229403008\n",
      "KFolds: 5 Train AUC: 0.825276918785337 Valid AUC: 0.8076019628846801\n",
      "KFolds: 6 Train AUC: 0.8257879278280572 Valid AUC: 0.8102525608493919\n",
      "KFolds: 7 Train AUC: 0.8251246692483788 Valid AUC: 0.8132993521595209\n",
      "KFolds: 8 Train AUC: 0.8251416050465292 Valid AUC: 0.8050649056281969\n",
      "KFolds: 9 Train AUC: 0.8251817376353974 Valid AUC: 0.8076095479343024\n",
      "KFolds: 10 Train AUC: 0.8251181719625758 Valid AUC: 0.8017022929995555\n"
     ]
    }
   ],
   "source": [
    "folds = [4,5,6,7,8,9,10]\n",
    "for f in folds:\n",
    "    trainRes = []\n",
    "    valRes = []\n",
    "    \n",
    "    kf = KFold(n_splits=f, shuffle=True)\n",
    "\n",
    "    for train, test in kf.split(df_dummy.index.values):\n",
    "        mod = sm.GLM.from_formula(formula=my_formula, data=df_dummy.iloc[train], family=sm.families.Binomial())\n",
    "        res = mod.fit()\n",
    "        predsTrain = res.predict()\n",
    "        preds = res.predict(df_dummy.iloc[test])\n",
    "        trainRes.append(roc_auc_score(df_dummy.iloc[train].success, predsTrain))\n",
    "        valRes.append(roc_auc_score(df_dummy.iloc[test].success, preds))\n",
    "    print(\"KFolds:\", f, \"Train AUC:\", np.mean(trainRes), \"Valid AUC:\", np.mean(valRes))"
   ]
  },
  {
   "cell_type": "markdown",
   "metadata": {},
   "source": [
    "It seems that for KFolds = 7, Valid AUC is the best. <br>\n",
    "KFolds: 7 <br>\n",
    "Train AUC: 0.8251246692483788 <br> Valid AUC: 0.8132993521595209"
   ]
  },
  {
   "cell_type": "code",
   "execution_count": 47,
   "metadata": {},
   "outputs": [
    {
     "name": "stdout",
     "output_type": "stream",
     "text": [
      "Train AUC: 0.825386666776593 Valid AUC: 0.8093099460039309\n"
     ]
    }
   ],
   "source": [
    "trainRes = []\n",
    "valRes = []\n",
    "    \n",
    "kf = KFold(n_splits=7, shuffle=True)\n",
    "\n",
    "for train, test in kf.split(df_dummy.index.values):\n",
    "    mod = sm.GLM.from_formula(formula=my_formula, data=df_dummy.iloc[train], family=sm.families.Binomial())\n",
    "    res = mod.fit()\n",
    "    predsTrain = res.predict()\n",
    "    preds = res.predict(df_dummy.iloc[test])\n",
    "    trainRes.append(roc_auc_score(df_dummy.iloc[train].success, predsTrain))\n",
    "    valRes.append(roc_auc_score(df_dummy.iloc[test].success, preds))\n",
    "print(\"Train AUC:\", np.mean(trainRes), \"Valid AUC:\", np.mean(valRes))"
   ]
  },
  {
   "cell_type": "markdown",
   "metadata": {},
   "source": [
    "### 3.2. SVM"
   ]
  },
  {
   "cell_type": "code",
   "execution_count": 48,
   "metadata": {},
   "outputs": [],
   "source": [
    "from sklearn.model_selection import KFold\n",
    "from sklearn import metrics\n",
    "from sklearn.svm import SVC"
   ]
  },
  {
   "cell_type": "markdown",
   "metadata": {},
   "source": [
    "First step is to choose the best kernel.\n"
   ]
  },
  {
   "cell_type": "code",
   "execution_count": 56,
   "metadata": {},
   "outputs": [
    {
     "name": "stdout",
     "output_type": "stream",
     "text": [
      "10\n",
      "Train set:  0.8136593313304242\n",
      "Validation set:  0.7772868615567508\n",
      "----------------------------\n"
     ]
    }
   ],
   "source": [
    "aucs = []\n",
    "aucsT = []\n",
    "clf = SVC(C = 1, cache_size=500, kernel= 'linear',degree = 1,\n",
    "          max_iter=-1, probability=True,\n",
    "          tol=0.001, verbose=False, random_state = 3)\n",
    "for train, test in kf.split(df_dummy.index.values):\n",
    "    clf.fit(df_dummy.iloc[train][chosen_vars].values, df_dummy.iloc[train][\"success\"].values)\n",
    "    prob = clf.predict_proba(df_dummy.iloc[test][chosen_vars])\n",
    "    aucs.append(metrics.roc_auc_score(df_dummy.iloc[test][\"success\"].values, prob[:,1])) \n",
    "\n",
    "    prob2 = clf.predict_proba(df_dummy.iloc[train][chosen_vars])\n",
    "    aucsT.append(metrics.roc_auc_score(df_dummy.iloc[train][\"success\"].values, prob2[:,1]))\n",
    "print(c)\n",
    "print(\"Train set: \", np.mean(aucsT))\n",
    "print(\"Validation set: \", np.mean(aucs))\n",
    "print(\"----------------------------\")"
   ]
  },
  {
   "cell_type": "code",
   "execution_count": 57,
   "metadata": {},
   "outputs": [
    {
     "name": "stdout",
     "output_type": "stream",
     "text": [
      "10\n",
      "Train set:  0.872347334945539\n",
      "Validation set:  0.7601503684303025\n",
      "----------------------------\n"
     ]
    }
   ],
   "source": [
    "aucs = []\n",
    "aucsT = []\n",
    "clf = SVC(C = 1, cache_size=500, kernel= 'poly',\n",
    "          max_iter=-1, probability=True,\n",
    "          tol=0.001, verbose=False, random_state = 3)\n",
    "for train, test in kf.split(df_dummy.index.values):\n",
    "    clf.fit(df_dummy.iloc[train][chosen_vars].values, df_dummy.iloc[train][\"success\"].values)\n",
    "    prob = clf.predict_proba(df_dummy.iloc[test][chosen_vars])\n",
    "    aucs.append(metrics.roc_auc_score(df_dummy.iloc[test][\"success\"].values, prob[:,1])) \n",
    "\n",
    "    prob2 = clf.predict_proba(df_dummy.iloc[train][chosen_vars])\n",
    "    aucsT.append(metrics.roc_auc_score(df_dummy.iloc[train][\"success\"].values, prob2[:,1]))\n",
    "print(c)\n",
    "print(\"Train set: \", np.mean(aucsT))\n",
    "print(\"Validation set: \", np.mean(aucs))\n",
    "print(\"----------------------------\")"
   ]
  },
  {
   "cell_type": "code",
   "execution_count": 66,
   "metadata": {
    "scrolled": true
   },
   "outputs": [
    {
     "name": "stdout",
     "output_type": "stream",
     "text": [
      "10\n",
      "Train set:  0.865473575368106\n",
      "Validation set:  0.7834616595222912\n",
      "----------------------------\n"
     ]
    }
   ],
   "source": [
    "aucs = []\n",
    "aucsT = []\n",
    "clf = SVC(C = 1, cache_size=500, kernel= 'rbf',\n",
    "          max_iter=-1, probability=True,\n",
    "          tol=0.001, verbose=False, random_state = 3)\n",
    "for train, test in kf.split(df_dummy.index.values):\n",
    "    clf.fit(df_dummy.iloc[train][chosen_vars].values, df_dummy.iloc[train][\"success\"].values)\n",
    "    prob = clf.predict_proba(df_dummy.iloc[test][chosen_vars])\n",
    "    aucs.append(metrics.roc_auc_score(df_dummy.iloc[test][\"success\"].values, prob[:,1])) \n",
    "\n",
    "    prob2 = clf.predict_proba(df_dummy.iloc[train][chosen_vars])\n",
    "    aucsT.append(metrics.roc_auc_score(df_dummy.iloc[train][\"success\"].values, prob2[:,1]))\n",
    "print(c)\n",
    "print(\"Train set: \", np.mean(aucsT))\n",
    "print(\"Validation set: \", np.mean(aucs))\n",
    "print(\"----------------------------\")"
   ]
  },
  {
   "cell_type": "markdown",
   "metadata": {},
   "source": [
    "The best one is RBF with degree 4."
   ]
  },
  {
   "cell_type": "markdown",
   "metadata": {},
   "source": [
    "Next step is to choose the best cost. As we can see below for c = 2 we get the best Validation set AUC. <br>\n",
    "Train set:  0.8742633003804725 <br>\n",
    "Validation set:  0.7783666481627748"
   ]
  },
  {
   "cell_type": "code",
   "execution_count": 67,
   "metadata": {
    "scrolled": true
   },
   "outputs": [
    {
     "name": "stderr",
     "output_type": "stream",
     "text": [
      "C:\\Users\\mjani\\Miniconda3\\envs\\myPython\\lib\\site-packages\\sklearn\\model_selection\\_split.py:296: FutureWarning: Setting a random_state has no effect since shuffle is False. This will raise an error in 0.24. You should leave random_state to its default (None), or set shuffle=True.\n",
      "  FutureWarning\n"
     ]
    },
    {
     "name": "stdout",
     "output_type": "stream",
     "text": [
      "0.01\n",
      "Train set:  0.8527592827905375\n",
      "Validation set:  0.7687428727714005\n",
      "----------------------------\n",
      "0.1\n",
      "Train set:  0.8559087040741027\n",
      "Validation set:  0.7704166532595091\n",
      "----------------------------\n",
      "0.5\n",
      "Train set:  0.8586321395743924\n",
      "Validation set:  0.7802745813762769\n",
      "----------------------------\n",
      "1\n",
      "Train set:  0.865473575368106\n",
      "Validation set:  0.7834616595222912\n",
      "----------------------------\n",
      "2\n",
      "Train set:  0.8742633003804725\n",
      "Validation set:  0.7783666481627748\n",
      "----------------------------\n",
      "3\n",
      "Train set:  0.8798693583328427\n",
      "Validation set:  0.7717168486754633\n",
      "----------------------------\n",
      "5\n",
      "Train set:  0.888834454231262\n",
      "Validation set:  0.7590496381917148\n",
      "----------------------------\n",
      "10\n",
      "Train set:  0.9009400027955454\n",
      "Validation set:  0.7575091278373584\n",
      "----------------------------\n"
     ]
    }
   ],
   "source": [
    "kf = KFold(n_splits=5, random_state = 3)\n",
    "\n",
    "C = [0.01, 0.1, 0.5, 1, 2, 3, 5, 10]\n",
    "\n",
    "for c in C:\n",
    "    aucs = []\n",
    "    aucsT = []\n",
    "    clf = SVC(C = c, cache_size=500, kernel= 'rbf',\n",
    "              max_iter=-1, probability=True,\n",
    "              tol=0.001, verbose=False, random_state = 3)\n",
    "    for train, test in kf.split(df_dummy.index.values):\n",
    "        clf.fit(df_dummy.iloc[train][chosen_vars].values, df_dummy.iloc[train][\"success\"].values)\n",
    "        prob = clf.predict_proba(df_dummy.iloc[test][chosen_vars])\n",
    "        aucs.append(metrics.roc_auc_score(df_dummy.iloc[test][\"success\"].values, prob[:,1])) \n",
    "\n",
    "        prob2 = clf.predict_proba(df_dummy.iloc[train][chosen_vars])\n",
    "        aucsT.append(metrics.roc_auc_score(df_dummy.iloc[train][\"success\"].values, prob2[:,1]))\n",
    "    print(c)\n",
    "    print(\"Train set: \", np.mean(aucsT))\n",
    "    print(\"Validation set: \", np.mean(aucs))\n",
    "    print(\"----------------------------\")"
   ]
  },
  {
   "cell_type": "code",
   "execution_count": 62,
   "metadata": {},
   "outputs": [
    {
     "name": "stdout",
     "output_type": "stream",
     "text": [
      "10\n",
      "Train set:  0.8742633003804725\n",
      "Validation set:  0.7783666481627748\n",
      "----------------------------\n"
     ]
    }
   ],
   "source": [
    "kf = KFold(n_splits=5, random_state = 3)\n",
    "\n",
    "aucs = []\n",
    "aucsT = []\n",
    "clf = SVC(C = 2, cache_size=500, kernel= 'rbf',\n",
    "          max_iter=-1, probability=True,\n",
    "          tol=0.001, verbose=False, random_state = 3)\n",
    "for train, test in kf.split(df_dummy.index.values):\n",
    "    clf.fit(df_dummy.iloc[train][chosen_vars].values, df_dummy.iloc[train][\"success\"].values)\n",
    "    prob = clf.predict_proba(df_dummy.iloc[test][chosen_vars])\n",
    "    aucs.append(metrics.roc_auc_score(df_dummy.iloc[test][\"success\"].values, prob[:,1])) \n",
    "\n",
    "    prob2 = clf.predict_proba(df_dummy.iloc[train][chosen_vars])\n",
    "    aucsT.append(metrics.roc_auc_score(df_dummy.iloc[train][\"success\"].values, prob2[:,1]))\n",
    "print(c)\n",
    "print(\"Train set: \", np.mean(aucsT))\n",
    "print(\"Validation set: \", np.mean(aucs))\n",
    "print(\"----------------------------\")"
   ]
  },
  {
   "cell_type": "markdown",
   "metadata": {},
   "source": [
    "Next step is to chose the best value for KFolds. The 5 folds are the best for SVM."
   ]
  },
  {
   "cell_type": "code",
   "execution_count": 70,
   "metadata": {},
   "outputs": [
    {
     "name": "stdout",
     "output_type": "stream",
     "text": [
      "3\n",
      "Train set:  0.8762728228545202\n",
      "Validation set:  0.7686167473801676\n",
      "----------------------------\n",
      "5\n",
      "Train set:  0.8742633003804725\n",
      "Validation set:  0.7783666481627748\n",
      "----------------------------\n",
      "8\n",
      "Train set:  0.870991246089796\n",
      "Validation set:  0.770489034215821\n",
      "----------------------------\n",
      "10\n",
      "Train set:  0.8700417542850589\n",
      "Validation set:  0.7768644329709875\n",
      "----------------------------\n"
     ]
    }
   ],
   "source": [
    "K = [3, 5, 8, 10]\n",
    "for k in K:\n",
    "    \n",
    "    import warnings\n",
    "    warnings.simplefilter(action='ignore', category=FutureWarning)\n",
    "    \n",
    "    kf = KFold(n_splits=k, random_state = 3)\n",
    "\n",
    "    aucs = []\n",
    "    aucsT = []\n",
    "    clf = SVC(C = 2, cache_size=500, kernel= 'rbf',\n",
    "              max_iter=-1, probability=True,\n",
    "              tol=0.001, verbose=False, random_state = 3)\n",
    "    for train, test in kf.split(df_dummy.index.values):\n",
    "        clf.fit(df_dummy.iloc[train][chosen_vars].values, df_dummy.iloc[train][\"success\"].values)\n",
    "        prob = clf.predict_proba(df_dummy.iloc[test][chosen_vars])\n",
    "        aucs.append(metrics.roc_auc_score(df_dummy.iloc[test][\"success\"].values, prob[:,1])) \n",
    "\n",
    "        prob2 = clf.predict_proba(df_dummy.iloc[train][chosen_vars])\n",
    "        aucsT.append(metrics.roc_auc_score(df_dummy.iloc[train][\"success\"].values, prob2[:,1]))\n",
    "    print(k)\n",
    "    print(\"Train set: \", np.mean(aucsT))\n",
    "    print(\"Validation set: \", np.mean(aucs))\n",
    "    print(\"----------------------------\")"
   ]
  },
  {
   "cell_type": "markdown",
   "metadata": {},
   "source": [
    "#### Place for in imbalance"
   ]
  },
  {
   "cell_type": "markdown",
   "metadata": {},
   "source": [
    "#### Best SVM model\n"
   ]
  },
  {
   "cell_type": "markdown",
   "metadata": {},
   "source": [
    "Value of AUC is much smaller than in logit model."
   ]
  },
  {
   "cell_type": "code",
   "execution_count": 71,
   "metadata": {},
   "outputs": [
    {
     "name": "stdout",
     "output_type": "stream",
     "text": [
      "Train set:  0.8742633003804725\n",
      "Validation set:  0.7783666481627748\n",
      "----------------------------\n"
     ]
    }
   ],
   "source": [
    "kf = KFold(n_splits=5, random_state = 3)\n",
    "aucs = []\n",
    "aucsT = []\n",
    "\n",
    "\n",
    "clf = SVC(C = 2, cache_size=500, kernel= 'rbf',\n",
    "max_iter=-1, probability=True,\n",
    "tol=0.001, verbose=False, random_state = 3)\n",
    "\n",
    "for train, test in kf.split(df_dummy.index.values):\n",
    "    clf.fit(df_dummy.iloc[train][chosen_vars].values, df_dummy.iloc[train][\"success\"].values)\n",
    "    prob = clf.predict_proba(df_dummy.iloc[test][chosen_vars])\n",
    "    aucs.append(metrics.roc_auc_score(df_dummy.iloc[test][\"success\"].values, prob[:,1]))\n",
    "\n",
    "\n",
    "\n",
    "    prob2 = clf.predict_proba(df_dummy.iloc[train][chosen_vars])\n",
    "    aucsT.append(metrics.roc_auc_score(df_dummy.iloc[train][\"success\"].values, prob2[:,1]))\n",
    "\n",
    "\n",
    "\n",
    "print(\"Train set: \", np.mean(aucsT))\n",
    "print(\"Validation set: \", np.mean(aucs))\n",
    "print(\"----------------------------\")"
   ]
  },
  {
   "cell_type": "markdown",
   "metadata": {},
   "source": [
    "## KNN"
   ]
  },
  {
   "cell_type": "code",
   "execution_count": 72,
   "metadata": {},
   "outputs": [],
   "source": [
    "from sklearn.model_selection import StratifiedKFold\n",
    "import math\n",
    "from sklearn.model_selection import KFold\n",
    "from sklearn import metrics\n",
    "from sklearn import neighbors"
   ]
  },
  {
   "cell_type": "markdown",
   "metadata": {},
   "source": [
    "First thing is to chose the best KFold number. As it seems the best values are 6 and 9. WHich one to choose????? <br>\n",
    "folds:  6 <br>\n",
    "AUC:  0.8086128044390489<br>\n",
    "ACC:  0.768538525963149<br>\n",
    "folds:  9<br>\n",
    "AUC:  0.809097714977945<br>\n",
    "ACC:  0.7677527151211361<br>"
   ]
  },
  {
   "cell_type": "code",
   "execution_count": 77,
   "metadata": {},
   "outputs": [
    {
     "name": "stdout",
     "output_type": "stream",
     "text": [
      "folds:  4\n",
      "AUC:  0.8000407312461417\n",
      "ACC:  0.76273132664437\n",
      "folds:  5\n",
      "AUC:  0.8017439190072244\n",
      "ACC:  0.7660564853556485\n",
      "folds:  6\n",
      "AUC:  0.8086128044390489\n",
      "ACC:  0.768538525963149\n",
      "folds:  7\n",
      "AUC:  0.8052018579196293\n",
      "ACC:  0.7677527151211362\n",
      "folds:  8\n",
      "AUC:  0.8022637910110286\n",
      "ACC:  0.7702125279642058\n",
      "folds:  9\n",
      "AUC:  0.809097714977945\n",
      "ACC:  0.7677527151211361\n",
      "folds:  10\n",
      "AUC:  0.8057009383625025\n",
      "ACC:  0.7701680672268908\n"
     ]
    }
   ],
   "source": [
    "splits = [4,5,6, 7,8,9, 10]\n",
    "for split in splits:\n",
    "    kf = KFold(n_splits=split, shuffle=True,random_state=0)\n",
    "    probs = []\n",
    "    indicies = []\n",
    "    aucs = []\n",
    "    bacc = []\n",
    "    accs = []\n",
    "    n_neighbors = int(math.sqrt(df_dummy.shape[0]))\n",
    "    clf = neighbors.KNeighborsClassifier(n_neighbors, n_jobs=-1, p=1)\n",
    "    for train, test in kf.split(df_dummy.index.values):\n",
    "        clf.fit(df_dummy.iloc[train][chosen_vars].values, df_dummy.iloc[train][\"success\"].values)\n",
    "        prob = clf.predict_proba(df_dummy.iloc[test][chosen_vars].values)\n",
    "        probs.append(prob)\n",
    "        indicies.append(test)\n",
    "        aucs.append(metrics.roc_auc_score(df_dummy.iloc[test][\"success\"].values, prob[:,1]))\n",
    "        accs.append(metrics.accuracy_score(df_dummy.iloc[test][\"success\"].values, (prob[:,1]>0.50).astype(int)))\n",
    "    print(\"folds: \", split)\n",
    "    print('AUC: ', np.mean(aucs))\n",
    "    print('ACC: ',np.mean(accs))\n"
   ]
  },
  {
   "cell_type": "markdown",
   "metadata": {},
   "source": [
    "Best auc is for 8 folds. ACC:  0.781619779156479"
   ]
  },
  {
   "cell_type": "code",
   "execution_count": 78,
   "metadata": {},
   "outputs": [
    {
     "name": "stdout",
     "output_type": "stream",
     "text": [
      "folds:  4\n",
      "AUC:  0.7725186881409163\n",
      "ACC:  0.762675585284281\n",
      "folds:  5\n",
      "AUC:  0.7754703681562208\n",
      "ACC:  0.7551046025104602\n",
      "folds:  6\n",
      "AUC:  0.7826712501156131\n",
      "ACC:  0.7500670016750419\n",
      "folds:  7\n",
      "AUC:  0.7805300224961821\n",
      "ACC:  0.7577276524644946\n",
      "folds:  8\n",
      "AUC:  0.7811068579407554\n",
      "ACC:  0.754261744966443\n",
      "folds:  9\n",
      "AUC:  0.7820674608299727\n",
      "ACC:  0.7577276524644946\n",
      "folds:  10\n",
      "AUC:  0.7835929490111873\n",
      "ACC:  0.7567997198879551\n"
     ]
    }
   ],
   "source": [
    "# Manhattan\n",
    "splits = [4,5,6, 7,8,9, 10]\n",
    "for split in splits:\n",
    "    kf = KFold(n_splits=split, random_state=0)\n",
    "    probs = []\n",
    "    indicies = []\n",
    "    aucs = []\n",
    "    bacc = []\n",
    "    accs = []\n",
    "    n_neighbors = int(math.sqrt(df_dummy.shape[0]))\n",
    "    clf = neighbors.KNeighborsClassifier(n_neighbors, n_jobs=-1, p=2)\n",
    "    for train, test in kf.split(df_dummy.index.values):\n",
    "        clf.fit(df_dummy.iloc[train][chosen_vars].values, df_dummy.iloc[train][\"success\"].values)\n",
    "        prob = clf.predict_proba(df_dummy.iloc[test][chosen_vars].values)\n",
    "        probs.append(prob)\n",
    "        indicies.append(test)\n",
    "        aucs.append(metrics.roc_auc_score(df_dummy.iloc[test][\"success\"].values, prob[:,1]))\n",
    "        accs.append(metrics.accuracy_score(df_dummy.iloc[test][\"success\"].values, (prob[:,1]>0.50).astype(int)))\n",
    "    print(\"folds: \", split)\n",
    "    print('AUC: ', np.mean(aucs))\n",
    "    print('ACC: ',np.mean(accs))\n"
   ]
  },
  {
   "cell_type": "markdown",
   "metadata": {},
   "source": [
    "Best auc is for 10 folds. ACC:  0.7567997198879551 MANHATTAN\n"
   ]
  },
  {
   "cell_type": "code",
   "execution_count": null,
   "metadata": {},
   "outputs": [],
   "source": []
  },
  {
   "cell_type": "markdown",
   "metadata": {},
   "source": [
    "For 0.8 * sqrt of number of obserations"
   ]
  },
  {
   "cell_type": "code",
   "execution_count": 81,
   "metadata": {
    "scrolled": true
   },
   "outputs": [
    {
     "name": "stdout",
     "output_type": "stream",
     "text": [
      "Number of neighbours:  0.7 23\n",
      "AUC:  0.7862866025004377\n",
      "ACC:  0.7693627450980391\n",
      "Number of neighbours:  0.8 27\n",
      "AUC:  0.7862386590498829\n",
      "ACC:  0.754313725490196\n",
      "Number of neighbours:  0.9 30\n",
      "AUC:  0.7823645481741375\n",
      "ACC:  0.7534803921568628\n",
      "Number of neighbours:  1 34\n",
      "AUC:  0.7835929490111873\n",
      "ACC:  0.7567997198879551\n",
      "Number of neighbours:  1.1 37\n",
      "AUC:  0.7837439695970901\n",
      "ACC:  0.7517647058823529\n",
      "Number of neighbours:  1.2 40\n",
      "AUC:  0.784827747406134\n",
      "ACC:  0.7576050420168067\n",
      "Number of neighbours:  1.3 44\n",
      "AUC:  0.7794997356958996\n",
      "ACC:  0.7584313725490196\n"
     ]
    }
   ],
   "source": [
    "# Manhattan\n",
    "neighbors_list = [0.7, 0.8, 0.9, 1, 1.1, 1.2, 1.3]\n",
    "for n in neighbors_list:\n",
    "    kf = KFold(n_splits=10, random_state=0)\n",
    "    probs = []\n",
    "    indicies = []\n",
    "    aucs = []\n",
    "    bacc = []\n",
    "    accs = []\n",
    "    n_neighbors = int(math.sqrt(df_dummy.shape[0]))\n",
    "    clf = neighbors.KNeighborsClassifier(int(n_neighbors*n), n_jobs=-1, p=2)\n",
    "    for train, test in kf.split(df_dummy.index.values):\n",
    "        clf.fit(df_dummy.iloc[train][chosen_vars].values, df_dummy.iloc[train][\"success\"].values)\n",
    "        prob = clf.predict_proba(df_dummy.iloc[test][chosen_vars].values)\n",
    "        probs.append(prob)\n",
    "        indicies.append(test)\n",
    "        aucs.append(metrics.roc_auc_score(df_dummy.iloc[test][\"success\"].values, prob[:,1]))\n",
    "        accs.append(metrics.accuracy_score(df_dummy.iloc[test][\"success\"].values, (prob[:,1]>0.50).astype(int)))\n",
    "    print(\"Number of neighbours: \", n, int(n_neighbors*n))\n",
    "    print('AUC: ', np.mean(aucs))\n",
    "    print('ACC: ',np.mean(accs))\n"
   ]
  },
  {
   "cell_type": "markdown",
   "metadata": {},
   "source": [
    "For 34 neighbors the best :))\n"
   ]
  },
  {
   "cell_type": "code",
   "execution_count": null,
   "metadata": {},
   "outputs": [],
   "source": []
  },
  {
   "cell_type": "code",
   "execution_count": null,
   "metadata": {},
   "outputs": [],
   "source": []
  }
 ],
 "metadata": {
  "kernelspec": {
   "display_name": "Python 3",
   "language": "python",
   "name": "python3"
  },
  "language_info": {
   "codemirror_mode": {
    "name": "ipython",
    "version": 3
   },
   "file_extension": ".py",
   "mimetype": "text/x-python",
   "name": "python",
   "nbconvert_exporter": "python",
   "pygments_lexer": "ipython3",
   "version": "3.7.4"
  }
 },
 "nbformat": 4,
 "nbformat_minor": 2
}
